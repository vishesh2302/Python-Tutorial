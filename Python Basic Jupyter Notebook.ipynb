{
 "cells": [
  {
   "cell_type": "markdown",
   "metadata": {},
   "source": [
    "\n",
    "# Intro to Data Science Bootcamp: Day 1\n",
    "\n"
   ]
  },
  {
   "cell_type": "code",
   "execution_count": 325,
   "metadata": {
    "collapsed": false
   },
   "outputs": [
    {
     "name": "stdout",
     "output_type": "stream",
     "text": [
      "Dated :2017-10-27\n"
     ]
    }
   ],
   "source": [
    "from datetime import date\n",
    "print 'Dated :' + str(date.today())"
   ]
  },
  {
   "cell_type": "markdown",
   "metadata": {},
   "source": [
    "        "
   ]
  },
  {
   "cell_type": "markdown",
   "metadata": {},
   "source": [
    "## Why Python? Some Facts! \n"
   ]
  },
  {
   "cell_type": "markdown",
   "metadata": {},
   "source": [
    "1. Python is a great object-oriented, interpreted, interactive and functional programming language.  \n",
    "2. Python is a widely used high-level programming language for general-purpose programming.\n",
    "3. Python was created by Guido van Rossum and first released in 1991.\n",
    "4. Python emphasizes code readability by supporting whitespace indentation.\n",
    "5. Python Interpreters are available for pretty much all Operating systems.\n",
    "6. Python is one of the most successful open-source platform. (CPython is managed by the non-profit Python Software Foundation.)"
   ]
  },
  {
   "cell_type": "markdown",
   "metadata": {},
   "source": [
    "##### Some of great applications supported in python: to name a few\n",
    "\n",
    "1. Youtube\n",
    "2. Survey Monkey\n",
    "3. Google\n",
    "4. Quora\n",
    "5. Bitly\n",
    "6. Instagram\n",
    "7. Bitly\n",
    "8. Spotify\n",
    "9. NASA\n",
    "and many more......... "
   ]
  },
  {
   "cell_type": "markdown",
   "metadata": {},
   "source": [
    "### Key Features\n",
    "\n",
    "\n",
    "1. Everything is an object\n",
    "2. Scalable \n",
    "3. Interactive shell\n",
    "4. Cross Platform\n"
   ]
  },
  {
   "cell_type": "markdown",
   "metadata": {},
   "source": [
    "### Releases History\n",
    "\n",
    "1. 1.0 in 1994\n",
    "2. 2.0 in 2000\n",
    "3. 3.0 in 2008\n",
    "\n",
    "2.7 & 3.6 is pretty reliable distributions"
   ]
  },
  {
   "cell_type": "markdown",
   "metadata": {},
   "source": [
    "### Python is used for:\n",
    "\n",
    "1. Web Development: Django, Pyramid, Bottle, Tornado, Flask, web2py\n",
    "2. GUI Development: tkInter, PyGObject, PyQt, PySide, Kivy, wxPython\n",
    "3. Scientific and Numeric: SciPy, Pandas, IPython\n",
    "4. Software Development: Buildbot, Trac, Roundup\n",
    "5. System Administration: Ansible, Salt, OpenStack\n"
   ]
  },
  {
   "cell_type": "markdown",
   "metadata": {},
   "source": [
    "### Getting Python\n",
    "\n",
    "\n",
    "Installing python: Can easily get from python.org for the needed OS.\n",
    "\n",
    "https://www.python.org/downloads/\n"
   ]
  },
  {
   "cell_type": "markdown",
   "metadata": {},
   "source": [
    "### Hello World In Python! \n"
   ]
  },
  {
   "cell_type": "code",
   "execution_count": 326,
   "metadata": {
    "collapsed": false
   },
   "outputs": [
    {
     "name": "stdout",
     "output_type": "stream",
     "text": [
      "Hello World!\n"
     ]
    }
   ],
   "source": [
    "print \"Hello World!\" ## in python 2.7 "
   ]
  },
  {
   "cell_type": "code",
   "execution_count": 327,
   "metadata": {
    "collapsed": false
   },
   "outputs": [
    {
     "data": {
      "text/plain": [
       "4"
      ]
     },
     "execution_count": 327,
     "metadata": {},
     "output_type": "execute_result"
    }
   ],
   "source": [
    "2+2"
   ]
  },
  {
   "cell_type": "markdown",
   "metadata": {},
   "source": [
    "If you are writing a script then include this. That way your OS will know whether to invoke compiler or interpretor for same. Example #!/bin/sh for shell scripts\n",
    "Read more here - https://en.wikipedia.org/wiki/Shebang_(Unix)"
   ]
  },
  {
   "cell_type": "code",
   "execution_count": 7,
   "metadata": {
    "collapsed": false
   },
   "outputs": [
    {
     "name": "stdout",
     "output_type": "stream",
     "text": [
      "Hello Class!\n"
     ]
    }
   ],
   "source": [
    "#!/usr/bin/python -> Python Shebang \n",
    "\n",
    "print \"Hello Class!\""
   ]
  },
  {
   "cell_type": "markdown",
   "metadata": {},
   "source": [
    "### Code Readability - Indentation\n",
    "\n",
    " Python emphasizes on readability, hence it provides indentation. Prefer using tab to do indentation instead of space to make it more readable."
   ]
  },
  {
   "cell_type": "code",
   "execution_count": 10,
   "metadata": {
    "collapsed": false
   },
   "outputs": [
    {
     "name": "stdout",
     "output_type": "stream",
     "text": [
      "True\n"
     ]
    }
   ],
   "source": [
    "a = 2\n",
    "if a == 2:\n",
    "    print True\n",
    "else:\n",
    "    print False"
   ]
  },
  {
   "cell_type": "markdown",
   "metadata": {},
   "source": [
    "### Comments in python"
   ]
  },
  {
   "cell_type": "code",
   "execution_count": 12,
   "metadata": {
    "collapsed": true
   },
   "outputs": [],
   "source": [
    "# One line comment -> this will not execute"
   ]
  },
  {
   "cell_type": "code",
   "execution_count": 19,
   "metadata": {
    "collapsed": false
   },
   "outputs": [
    {
     "data": {
      "text/plain": [
       "' This would be a multiline comment\\nin Python. You can have detailed description about your code\\n, assumptions, expected results, anything you want to add here\\n.....\\n'"
      ]
     },
     "execution_count": 19,
     "metadata": {},
     "output_type": "execute_result"
    }
   ],
   "source": [
    "# Multiline Comment -> this will not execute\n",
    "\n",
    "\"\"\" This would be a multiline comment\n",
    "in Python. You can have detailed description about your code\n",
    ", assumptions, expected results, anything you want to add here\n",
    ".....\n",
    "\"\"\""
   ]
  },
  {
   "cell_type": "code",
   "execution_count": 330,
   "metadata": {
    "collapsed": false
   },
   "outputs": [
    {
     "name": "stdout",
     "output_type": "stream",
     "text": [
      "2\n"
     ]
    }
   ],
   "source": [
    "# Comment in a function \n",
    "\n",
    "def printnum(num):\n",
    "    '''print the number num\n",
    "       @param num: object\n",
    "       @return: null\n",
    "    '''\n",
    "    print num\n",
    "\n",
    "printnum(2)"
   ]
  },
  {
   "cell_type": "code",
   "execution_count": 26,
   "metadata": {
    "collapsed": false
   },
   "outputs": [
    {
     "name": "stdout",
     "output_type": "stream",
     "text": [
      "5\n",
      "Hello\n"
     ]
    }
   ],
   "source": [
    "# Comment in a function \n",
    "\n",
    "def printnum(num):\n",
    "    '''print the number a\n",
    "       @param num: object\n",
    "       @return: num\n",
    "    '''\n",
    "    return num\n",
    "\n",
    "print printnum(5)\n",
    "print printnum('Hello')"
   ]
  },
  {
   "cell_type": "markdown",
   "metadata": {},
   "source": [
    "## Imports & Modules"
   ]
  },
  {
   "cell_type": "code",
   "execution_count": 332,
   "metadata": {
    "collapsed": false
   },
   "outputs": [
    {
     "data": {
      "text/plain": [
       "array([1, 2])"
      ]
     },
     "execution_count": 332,
     "metadata": {},
     "output_type": "execute_result"
    }
   ],
   "source": [
    "import numpy as np\n",
    "\n",
    "np.array([1,2])"
   ]
  },
  {
   "cell_type": "code",
   "execution_count": 333,
   "metadata": {
    "collapsed": false
   },
   "outputs": [
    {
     "data": {
      "text/plain": [
       "datetime.date(2017, 10, 28)"
      ]
     },
     "execution_count": 333,
     "metadata": {},
     "output_type": "execute_result"
    }
   ],
   "source": [
    "from datetime import date\n",
    "date.today()"
   ]
  },
  {
   "cell_type": "markdown",
   "metadata": {},
   "source": [
    "## Datatypes"
   ]
  },
  {
   "cell_type": "markdown",
   "metadata": {},
   "source": [
    "#### Strings\n"
   ]
  },
  {
   "cell_type": "code",
   "execution_count": 337,
   "metadata": {
    "collapsed": false
   },
   "outputs": [
    {
     "name": "stdout",
     "output_type": "stream",
     "text": [
      "Class\n",
      "This is the first day of class\n",
      "This is the first day of class.  This is the first day of class This is the first day of class\n",
      "This is the first day of class.  \n",
      "This is the first day of class \n",
      "This is the first day of class.\n"
     ]
    }
   ],
   "source": [
    "# word as a string\n",
    "var = 'Class'\n",
    "print var\n",
    "\n",
    "# line as a string\n",
    "var = \"This is the first day of class\"\n",
    "print var\n",
    "\n",
    "# multi-line as a string\n",
    "var = 'This is the first day of class.  \\\n",
    "This is the first day of class \\\n",
    "This is the first day of class'\n",
    "print var\n",
    "\n",
    "# multi-line as a string\n",
    "var = '''This is the first day of class.  \n",
    "This is the first day of class \n",
    "This is the first day of class.'''\n",
    "print var"
   ]
  },
  {
   "cell_type": "markdown",
   "metadata": {},
   "source": [
    "#### Numbers"
   ]
  },
  {
   "cell_type": "code",
   "execution_count": 40,
   "metadata": {
    "collapsed": false
   },
   "outputs": [
    {
     "name": "stdout",
     "output_type": "stream",
     "text": [
      "2\n"
     ]
    },
    {
     "data": {
      "text/plain": [
       "int"
      ]
     },
     "execution_count": 40,
     "metadata": {},
     "output_type": "execute_result"
    }
   ],
   "source": [
    "batch=02\n",
    "print batch\n",
    "\n",
    "type(batch) # give you datatype of that variable"
   ]
  },
  {
   "cell_type": "code",
   "execution_count": 41,
   "metadata": {
    "collapsed": false
   },
   "outputs": [
    {
     "name": "stdout",
     "output_type": "stream",
     "text": [
      "2.2\n"
     ]
    },
    {
     "data": {
      "text/plain": [
       "float"
      ]
     },
     "execution_count": 41,
     "metadata": {},
     "output_type": "execute_result"
    }
   ],
   "source": [
    "batch=02.2\n",
    "print batch\n",
    "\n",
    "type(batch)"
   ]
  },
  {
   "cell_type": "markdown",
   "metadata": {},
   "source": [
    "#### Null or None"
   ]
  },
  {
   "cell_type": "code",
   "execution_count": 338,
   "metadata": {
    "collapsed": false
   },
   "outputs": [
    {
     "name": "stdout",
     "output_type": "stream",
     "text": [
      "Yes\n"
     ]
    }
   ],
   "source": [
    "batch=None\n",
    "if batch == None:\n",
    "    print 'Yes'\n",
    "else:\n",
    "    print 'No'"
   ]
  },
  {
   "cell_type": "markdown",
   "metadata": {},
   "source": [
    "###### Some immutable types\n",
    "1. int, float, long, complex\n",
    "2. str\n",
    "3. bytes\n",
    "4. tuple\n",
    "5. frozenset\n",
    "6. Boolean\n",
    "7. Array\n",
    "\n",
    "###### Some mutable types\n",
    "1. byte array\n",
    "2. list\n",
    "3. set\n",
    "4. dict"
   ]
  },
  {
   "cell_type": "markdown",
   "metadata": {},
   "source": [
    "## Collections"
   ]
  },
  {
   "cell_type": "markdown",
   "metadata": {},
   "source": [
    "### Lists\n",
    "\n",
    "\n",
    "A Python list is a collection of Python objects indexed by an ordered sequence of integers starting from zero. "
   ]
  },
  {
   "cell_type": "code",
   "execution_count": 340,
   "metadata": {
    "collapsed": false
   },
   "outputs": [
    {
     "name": "stdout",
     "output_type": "stream",
     "text": [
      "[0, 1, 2, 3, 4]\n"
     ]
    },
    {
     "data": {
      "text/plain": [
       "list"
      ]
     },
     "execution_count": 340,
     "metadata": {},
     "output_type": "execute_result"
    }
   ],
   "source": [
    "# Create a sequencial list\n",
    "a=[0,1,2,3,4]\n",
    "a = range(5)\n",
    "print a\n",
    "type(a)"
   ]
  },
  {
   "cell_type": "code",
   "execution_count": 51,
   "metadata": {
    "collapsed": false
   },
   "outputs": [
    {
     "name": "stdout",
     "output_type": "stream",
     "text": [
      "[0, 1, 2, 3, 4]\n"
     ]
    },
    {
     "data": {
      "text/plain": [
       "list"
      ]
     },
     "execution_count": 51,
     "metadata": {},
     "output_type": "execute_result"
    }
   ],
   "source": [
    "# list\n",
    "a = [0, 1, 2, 3, 4]\n",
    "print a\n",
    "type(a)"
   ]
  },
  {
   "cell_type": "code",
   "execution_count": 76,
   "metadata": {
    "collapsed": false
   },
   "outputs": [
    {
     "data": {
      "text/plain": [
       "5"
      ]
     },
     "execution_count": 76,
     "metadata": {},
     "output_type": "execute_result"
    }
   ],
   "source": [
    "# length of the list\n",
    "\n",
    "len(a)"
   ]
  },
  {
   "cell_type": "code",
   "execution_count": 67,
   "metadata": {
    "collapsed": false
   },
   "outputs": [
    {
     "data": {
      "text/plain": [
       "2"
      ]
     },
     "execution_count": 67,
     "metadata": {},
     "output_type": "execute_result"
    }
   ],
   "source": [
    "# access an element using an index\n",
    "\n",
    "a[2]"
   ]
  },
  {
   "cell_type": "code",
   "execution_count": 65,
   "metadata": {
    "collapsed": false
   },
   "outputs": [
    {
     "data": {
      "text/plain": [
       "array([2, 3, 4])"
      ]
     },
     "execution_count": 65,
     "metadata": {},
     "output_type": "execute_result"
    }
   ],
   "source": [
    "# get everything after 2nd index\n",
    "\n",
    "a[2:]"
   ]
  },
  {
   "cell_type": "code",
   "execution_count": 66,
   "metadata": {
    "collapsed": false
   },
   "outputs": [
    {
     "data": {
      "text/plain": [
       "array([0, 1])"
      ]
     },
     "execution_count": 66,
     "metadata": {},
     "output_type": "execute_result"
    }
   ],
   "source": [
    "# get everything before 2nd index\n",
    "\n",
    "a[:2]"
   ]
  },
  {
   "cell_type": "code",
   "execution_count": 133,
   "metadata": {
    "collapsed": true
   },
   "outputs": [],
   "source": [
    "list_example=[5, 10.0, 'sports', (2+4j), 3.14159]"
   ]
  },
  {
   "cell_type": "code",
   "execution_count": 134,
   "metadata": {
    "collapsed": false
   },
   "outputs": [
    {
     "data": {
      "text/plain": [
       "[5, 10.0, 'sports', (2+4j), 3.14159]"
      ]
     },
     "execution_count": 134,
     "metadata": {},
     "output_type": "execute_result"
    }
   ],
   "source": [
    "list_example"
   ]
  },
  {
   "cell_type": "code",
   "execution_count": 106,
   "metadata": {
    "collapsed": false
   },
   "outputs": [
    {
     "data": {
      "text/plain": [
       "'hello world'"
      ]
     },
     "execution_count": 106,
     "metadata": {},
     "output_type": "execute_result"
    }
   ],
   "source": [
    "hello='hello'\n",
    "world='world'\n",
    "\n",
    "hw = hello +' '+world\n",
    "hw"
   ]
  },
  {
   "cell_type": "code",
   "execution_count": 107,
   "metadata": {
    "collapsed": false
   },
   "outputs": [
    {
     "data": {
      "text/plain": [
       "'hello world Class!'"
      ]
     },
     "execution_count": 107,
     "metadata": {},
     "output_type": "execute_result"
    }
   ],
   "source": [
    "hw1 = hw + ' Class!'\n",
    "hw1"
   ]
  },
  {
   "cell_type": "code",
   "execution_count": 108,
   "metadata": {
    "collapsed": false
   },
   "outputs": [
    {
     "data": {
      "text/plain": [
       "'hello world'"
      ]
     },
     "execution_count": 108,
     "metadata": {},
     "output_type": "execute_result"
    }
   ],
   "source": [
    "hw"
   ]
  },
  {
   "cell_type": "markdown",
   "metadata": {},
   "source": [
    "#### Lists are mutable"
   ]
  },
  {
   "cell_type": "code",
   "execution_count": 97,
   "metadata": {
    "collapsed": false
   },
   "outputs": [
    {
     "data": {
      "text/plain": [
       "['Cricket', 'Tennis', 'Badminton', 'Baseball', 'Chess']"
      ]
     },
     "execution_count": 97,
     "metadata": {},
     "output_type": "execute_result"
    }
   ],
   "source": [
    "# append an item\n",
    "\n",
    "sports = []\n",
    "\n",
    "sports.append('Cricket')\n",
    "sports.append('Tennis')\n",
    "sports.append('Badminton')\n",
    "sports.append('Baseball')\n",
    "sports.append('Chess')\n",
    "\n",
    "sports"
   ]
  },
  {
   "cell_type": "code",
   "execution_count": 98,
   "metadata": {
    "collapsed": true
   },
   "outputs": [],
   "source": [
    "sports.append('Hockey')"
   ]
  },
  {
   "cell_type": "code",
   "execution_count": 99,
   "metadata": {
    "collapsed": false
   },
   "outputs": [
    {
     "data": {
      "text/plain": [
       "['Cricket', 'Tennis', 'Badminton', 'Baseball', 'Chess', 'Hockey']"
      ]
     },
     "execution_count": 99,
     "metadata": {},
     "output_type": "execute_result"
    }
   ],
   "source": [
    "sports"
   ]
  },
  {
   "cell_type": "code",
   "execution_count": 88,
   "metadata": {
    "collapsed": false
   },
   "outputs": [
    {
     "data": {
      "text/plain": [
       "['Cricket', 'Tennis', 'Badminton', 'Baseball', 'Chess', 'Hockey', 'Football']"
      ]
     },
     "execution_count": 88,
     "metadata": {},
     "output_type": "execute_result"
    }
   ],
   "source": [
    "# Lists are mutable\n",
    "\n",
    "sports_new = sports\n",
    "\n",
    "sports_new.append('Football')\n",
    "\n",
    "sports_new"
   ]
  },
  {
   "cell_type": "code",
   "execution_count": 89,
   "metadata": {
    "collapsed": false
   },
   "outputs": [
    {
     "data": {
      "text/plain": [
       "['Cricket', 'Tennis', 'Badminton', 'Baseball', 'Chess', 'Hockey', 'Football']"
      ]
     },
     "execution_count": 89,
     "metadata": {},
     "output_type": "execute_result"
    }
   ],
   "source": [
    "sports"
   ]
  },
  {
   "cell_type": "code",
   "execution_count": 92,
   "metadata": {
    "collapsed": false
   },
   "outputs": [],
   "source": [
    "sports.remove('Tennis')\n"
   ]
  },
  {
   "cell_type": "code",
   "execution_count": 93,
   "metadata": {
    "collapsed": false
   },
   "outputs": [
    {
     "data": {
      "text/plain": [
       "['Cricket', 'Badminton', 'Baseball', 'Chess', 'Hockey', 'Football']"
      ]
     },
     "execution_count": 93,
     "metadata": {},
     "output_type": "execute_result"
    }
   ],
   "source": [
    "sports"
   ]
  },
  {
   "cell_type": "code",
   "execution_count": 94,
   "metadata": {
    "collapsed": false
   },
   "outputs": [
    {
     "data": {
      "text/plain": [
       "['Cricket', 'Badminton', 'Baseball', 'Chess', 'Hockey', 'Football']"
      ]
     },
     "execution_count": 94,
     "metadata": {},
     "output_type": "execute_result"
    }
   ],
   "source": [
    "sports_new"
   ]
  },
  {
   "cell_type": "markdown",
   "metadata": {},
   "source": [
    "## numpy array\n",
    "\n",
    "NumPy has a number of functions for creating arrays. You can process and transform all the elements of an array in one command."
   ]
  },
  {
   "cell_type": "code",
   "execution_count": 111,
   "metadata": {
    "collapsed": false
   },
   "outputs": [
    {
     "name": "stdout",
     "output_type": "stream",
     "text": [
      "<type 'list'>\n",
      "[0 1 2 3 4]\n",
      "<type 'numpy.ndarray'>\n"
     ]
    }
   ],
   "source": [
    "# import numpy\n",
    "import numpy as np\n",
    "\n",
    "# 1-D Array\n",
    "b_list=[0, 1, 2, 3, 4]\n",
    "print type(b_list)\n",
    "b_nparray = np.array(b_list)\n",
    "print b_nparray\n",
    "print type(b_nparray)"
   ]
  },
  {
   "cell_type": "code",
   "execution_count": 114,
   "metadata": {
    "collapsed": false
   },
   "outputs": [
    {
     "name": "stdout",
     "output_type": "stream",
     "text": [
      "[2 3 4 5 6]\n",
      "<type 'numpy.ndarray'>\n"
     ]
    }
   ],
   "source": [
    "print b_nparray+2\n",
    "print type(b_nparray)"
   ]
  },
  {
   "cell_type": "code",
   "execution_count": 115,
   "metadata": {
    "collapsed": false
   },
   "outputs": [
    {
     "name": "stdout",
     "output_type": "stream",
     "text": [
      "[0 0 1 1 2]\n",
      "<type 'numpy.ndarray'>\n"
     ]
    }
   ],
   "source": [
    "print b_nparray/2\n",
    "print type(b_nparray)"
   ]
  },
  {
   "cell_type": "code",
   "execution_count": 116,
   "metadata": {
    "collapsed": false
   },
   "outputs": [
    {
     "name": "stdout",
     "output_type": "stream",
     "text": [
      "[0 1 0 1 0]\n",
      "<type 'numpy.ndarray'>\n"
     ]
    }
   ],
   "source": [
    "print b_nparray%2\n",
    "print type(b_nparray)"
   ]
  },
  {
   "cell_type": "code",
   "execution_count": 117,
   "metadata": {
    "collapsed": false
   },
   "outputs": [
    {
     "name": "stdout",
     "output_type": "stream",
     "text": [
      "[ 0  1  4  9 16]\n",
      "<type 'numpy.ndarray'>\n"
     ]
    }
   ],
   "source": [
    "print b_nparray**2\n",
    "print type(b_nparray)"
   ]
  },
  {
   "cell_type": "code",
   "execution_count": 123,
   "metadata": {
    "collapsed": false
   },
   "outputs": [
    {
     "name": "stdout",
     "output_type": "stream",
     "text": [
      "[[1 2 3]\n",
      " [4 5 6]]\n"
     ]
    }
   ],
   "source": [
    "# 2D Array\n",
    "\n",
    "\n",
    "b_2D = np.array([[1, 2, 3], [4, 5, 6]])\n",
    "print b_2D"
   ]
  },
  {
   "cell_type": "code",
   "execution_count": 124,
   "metadata": {
    "collapsed": false
   },
   "outputs": [
    {
     "name": "stdout",
     "output_type": "stream",
     "text": [
      "6\n"
     ]
    }
   ],
   "source": [
    "# element 6\n",
    "print b_2D[1][2]"
   ]
  },
  {
   "cell_type": "code",
   "execution_count": 126,
   "metadata": {
    "collapsed": false
   },
   "outputs": [
    {
     "name": "stdout",
     "output_type": "stream",
     "text": [
      "[[1 4]\n",
      " [2 5]\n",
      " [3 6]]\n"
     ]
    }
   ],
   "source": [
    "# Transpose of matrix\n",
    "\n",
    "b_2D_T = b_2D.T\n",
    "\n",
    "print b_2D_T"
   ]
  },
  {
   "cell_type": "code",
   "execution_count": 130,
   "metadata": {
    "collapsed": false
   },
   "outputs": [
    {
     "name": "stdout",
     "output_type": "stream",
     "text": [
      "6\n"
     ]
    }
   ],
   "source": [
    "# element 6\n",
    "\n",
    "print b_2D_T[2][1]"
   ]
  },
  {
   "cell_type": "code",
   "execution_count": 132,
   "metadata": {
    "collapsed": false
   },
   "outputs": [
    {
     "name": "stdout",
     "output_type": "stream",
     "text": [
      "(2, 3)\n",
      "(3, 2)\n"
     ]
    }
   ],
   "source": [
    "# get size of 2D arrays\n",
    "\n",
    "print b_2D.shape\n",
    "print b_2D_T.shape"
   ]
  },
  {
   "cell_type": "markdown",
   "metadata": {},
   "source": [
    "### Between lists and arrays"
   ]
  },
  {
   "cell_type": "markdown",
   "metadata": {},
   "source": [
    "1. Lists and Arrays are superficially similar.\n",
    "2. They are both multi-element data structures.\n",
    "3. Lists are part of the core Python programming language\n",
    "4. Arrays are a part of the numerical computing package NumPy. (import numpy)\n",
    "5. All NumPy array must all be of the same type, whereas the elements of a Python list is homogeneous\n",
    "6. NumPy arrays support \"vectorized\" operations meaning element-by-element operations. whereas lists are not vectorized\n",
    "7. A new NumPy array is created everytime on adding one or more additional elements as it's destroys the old one. Lists retains the old one. Makes it more efficient in large lists.\n",
    "\n"
   ]
  },
  {
   "cell_type": "markdown",
   "metadata": {},
   "source": [
    "### Dictionaries\n",
    "\n",
    "A dictionary is also collection of Python objects, just like a list, but one that is indexed by strings or numbers (not necessarily integers and not in any particular order) or even tuples!"
   ]
  },
  {
   "cell_type": "code",
   "execution_count": 344,
   "metadata": {
    "collapsed": true
   },
   "outputs": [],
   "source": [
    "# Define a dictionary \n",
    "sports_dict = {}\n",
    "\n",
    "sports_dict['India']=['Cricket','Hockey']\n",
    "sports_dict['Spain']='Football'\n",
    "sports_dict['USA']=['Tennis']"
   ]
  },
  {
   "cell_type": "code",
   "execution_count": 345,
   "metadata": {
    "collapsed": false
   },
   "outputs": [
    {
     "name": "stdout",
     "output_type": "stream",
     "text": [
      "{'India': ['Cricket', 'Hockey'], 'USA': ['Tennis'], 'Spain': 'Football'}\n"
     ]
    }
   ],
   "source": [
    "print sports_dict"
   ]
  },
  {
   "cell_type": "code",
   "execution_count": 254,
   "metadata": {
    "collapsed": false
   },
   "outputs": [
    {
     "name": "stdout",
     "output_type": "stream",
     "text": [
      "Football\n"
     ]
    }
   ],
   "source": [
    "print sports_dict['Spain']"
   ]
  },
  {
   "cell_type": "code",
   "execution_count": 255,
   "metadata": {
    "collapsed": true
   },
   "outputs": [],
   "source": [
    "sports_dict['USA']='Chess'"
   ]
  },
  {
   "cell_type": "code",
   "execution_count": 256,
   "metadata": {
    "collapsed": false
   },
   "outputs": [
    {
     "name": "stdout",
     "output_type": "stream",
     "text": [
      "{'India': ['Cricket', 'Hockey'], 'USA': 'Chess', 'Spain': 'Football'}\n"
     ]
    }
   ],
   "source": [
    "print sports_dict"
   ]
  },
  {
   "cell_type": "code",
   "execution_count": 257,
   "metadata": {
    "collapsed": false
   },
   "outputs": [
    {
     "name": "stdout",
     "output_type": "stream",
     "text": [
      "['Cricket', 'Hockey']\n"
     ]
    }
   ],
   "source": [
    "print sports_dict['India']"
   ]
  },
  {
   "cell_type": "markdown",
   "metadata": {},
   "source": [
    "Any immutable object can be the dictionary key."
   ]
  },
  {
   "cell_type": "code",
   "execution_count": 258,
   "metadata": {
    "collapsed": false
   },
   "outputs": [
    {
     "name": "stdout",
     "output_type": "stream",
     "text": [
      "3\n"
     ]
    }
   ],
   "source": [
    "# length of dictionary\n",
    "\n",
    "print len(sports_dict)\n"
   ]
  },
  {
   "cell_type": "code",
   "execution_count": 341,
   "metadata": {
    "collapsed": false
   },
   "outputs": [
    {
     "name": "stdout",
     "output_type": "stream",
     "text": [
      "['India', 'USA', 'Spain']\n",
      "[['Cricket', 'Hockey', 'TT'], 'Chess', 'Football']\n"
     ]
    }
   ],
   "source": [
    "# get keys \n",
    "\n",
    "print sports_dict.keys()\n",
    "\n",
    "# get values\n",
    "print sports_dict.values()"
   ]
  },
  {
   "cell_type": "code",
   "execution_count": 261,
   "metadata": {
    "collapsed": false
   },
   "outputs": [
    {
     "name": "stdout",
     "output_type": "stream",
     "text": [
      "['Cricket', 'Hockey']\n",
      "Chess\n",
      "Football\n"
     ]
    }
   ],
   "source": [
    "# key-value in dictionary\n",
    "\n",
    "for key in sports_dict.keys():\n",
    "    print sports_dict[key]"
   ]
  },
  {
   "cell_type": "code",
   "execution_count": 262,
   "metadata": {
    "collapsed": false
   },
   "outputs": [
    {
     "name": "stdout",
     "output_type": "stream",
     "text": [
      "True\n",
      "False\n"
     ]
    }
   ],
   "source": [
    "# if key exists\n",
    "\n",
    "if sports_dict.has_key('India'):\n",
    "    print True\n",
    "else:\n",
    "    print False\n",
    "    \n",
    "if sports_dict.has_key('London'):\n",
    "    print True\n",
    "else:\n",
    "    print False\n"
   ]
  },
  {
   "cell_type": "code",
   "execution_count": 263,
   "metadata": {
    "collapsed": true
   },
   "outputs": [],
   "source": [
    "# Add 1 more sport to India\n",
    "\n",
    "sports_dict['India'].append('TT')"
   ]
  },
  {
   "cell_type": "code",
   "execution_count": 264,
   "metadata": {
    "collapsed": false
   },
   "outputs": [
    {
     "data": {
      "text/plain": [
       "['Cricket', 'Hockey', 'TT']"
      ]
     },
     "execution_count": 264,
     "metadata": {},
     "output_type": "execute_result"
    }
   ],
   "source": [
    "sports_dict['India']"
   ]
  },
  {
   "cell_type": "code",
   "execution_count": 346,
   "metadata": {
    "collapsed": false
   },
   "outputs": [],
   "source": [
    "sports_dict['USA'].append('new sport')"
   ]
  },
  {
   "cell_type": "code",
   "execution_count": 347,
   "metadata": {
    "collapsed": false
   },
   "outputs": [
    {
     "data": {
      "text/plain": [
       "['Tennis', 'new sport']"
      ]
     },
     "execution_count": 347,
     "metadata": {},
     "output_type": "execute_result"
    }
   ],
   "source": [
    "sports_dict['USA']"
   ]
  },
  {
   "cell_type": "markdown",
   "metadata": {},
   "source": [
    "### Boolean\n",
    "\n",
    "Value: True / False"
   ]
  },
  {
   "cell_type": "code",
   "execution_count": 172,
   "metadata": {
    "collapsed": false
   },
   "outputs": [
    {
     "name": "stdout",
     "output_type": "stream",
     "text": [
      "It is true\n",
      "<type 'bool'>\n"
     ]
    }
   ],
   "source": [
    "# Usage\n",
    "\n",
    "flag=True\n",
    "\n",
    "if flag:\n",
    "    print 'It is true'\n",
    "else:\n",
    "    print 'It is not true'\n",
    "    \n",
    "print type(flag)"
   ]
  },
  {
   "cell_type": "markdown",
   "metadata": {},
   "source": [
    "### Sets\n",
    "\n",
    "\n",
    "A set contains an unordered collection of unique and immutable objects. "
   ]
  },
  {
   "cell_type": "code",
   "execution_count": 247,
   "metadata": {
    "collapsed": false
   },
   "outputs": [
    {
     "name": "stdout",
     "output_type": "stream",
     "text": [
      "set(['Cricket', 'Tennis', 'Baseball', 'Chess', 'Badminton'])\n"
     ]
    }
   ],
   "source": [
    "sports=['Cricket', 'Tennis', 'Badminton', 'Baseball', 'Chess', 'Tennis']\n",
    "\n",
    "# removes duplicates from the list\n",
    "sport_set=set(sports)\n",
    "\n",
    "print sport_set\n"
   ]
  },
  {
   "cell_type": "markdown",
   "metadata": {},
   "source": [
    "###### Immutable Sets\n",
    "\n",
    "Sets are implemented in a way, which doesn't allow mutable objects. \n"
   ]
  },
  {
   "cell_type": "code",
   "execution_count": 245,
   "metadata": {
    "collapsed": false
   },
   "outputs": [
    {
     "ename": "TypeError",
     "evalue": "unhashable type: 'list'",
     "output_type": "error",
     "traceback": [
      "\u001b[0;31m---------------------------------------------------------------------------\u001b[0m",
      "\u001b[0;31mTypeError\u001b[0m                                 Traceback (most recent call last)",
      "\u001b[0;32m<ipython-input-245-8ba6e15ea355>\u001b[0m in \u001b[0;36m<module>\u001b[0;34m()\u001b[0m\n\u001b[1;32m      1\u001b[0m \u001b[0;34m\u001b[0m\u001b[0m\n\u001b[0;32m----> 2\u001b[0;31m \u001b[0msport_setim\u001b[0m \u001b[0;34m=\u001b[0m \u001b[0mset\u001b[0m\u001b[0;34m(\u001b[0m\u001b[0;34m(\u001b[0m\u001b[0;34m[\u001b[0m\u001b[0;34m'Cricket'\u001b[0m\u001b[0;34m,\u001b[0m \u001b[0;34m'Tennis'\u001b[0m\u001b[0;34m,\u001b[0m \u001b[0;34m'Baseball'\u001b[0m\u001b[0;34m]\u001b[0m\u001b[0;34m,\u001b[0m \u001b[0;34m[\u001b[0m\u001b[0;34m'Chess'\u001b[0m\u001b[0;34m,\u001b[0m \u001b[0;34m'Badminton'\u001b[0m\u001b[0;34m]\u001b[0m\u001b[0;34m)\u001b[0m\u001b[0;34m)\u001b[0m\u001b[0;34m\u001b[0m\u001b[0m\n\u001b[0m",
      "\u001b[0;31mTypeError\u001b[0m: unhashable type: 'list'"
     ]
    }
   ],
   "source": [
    "\n",
    "sport_setim = set((['Cricket', 'Tennis', 'Baseball'], ['Chess', 'Badminton']))"
   ]
  },
  {
   "cell_type": "markdown",
   "metadata": {},
   "source": [
    "##### Frozensets\n",
    "\n",
    "Though sets can't contain mutable objects, sets are mutable. \n",
    "Frozensets are like sets except that they cannot be changed, i.e. they are immutable:\n"
   ]
  },
  {
   "cell_type": "code",
   "execution_count": 186,
   "metadata": {
    "collapsed": false
   },
   "outputs": [
    {
     "data": {
      "text/plain": [
       "{'Baseball', 'Cricket', 'Hockey', 'Tennis'}"
      ]
     },
     "execution_count": 186,
     "metadata": {},
     "output_type": "execute_result"
    }
   ],
   "source": [
    "sports_set = set(['Cricket', 'Tennis', 'Baseball'])\n",
    "sports_set.add(\"Hockey\")\n",
    "sports_set"
   ]
  },
  {
   "cell_type": "code",
   "execution_count": 187,
   "metadata": {
    "collapsed": false
   },
   "outputs": [
    {
     "ename": "AttributeError",
     "evalue": "'frozenset' object has no attribute 'add'",
     "output_type": "error",
     "traceback": [
      "\u001b[0;31m---------------------------------------------------------------------------\u001b[0m",
      "\u001b[0;31mAttributeError\u001b[0m                            Traceback (most recent call last)",
      "\u001b[0;32m<ipython-input-187-164df0b2ac8b>\u001b[0m in \u001b[0;36m<module>\u001b[0;34m()\u001b[0m\n\u001b[1;32m      1\u001b[0m \u001b[0msports_fset\u001b[0m \u001b[0;34m=\u001b[0m \u001b[0mfrozenset\u001b[0m\u001b[0;34m(\u001b[0m\u001b[0;34m[\u001b[0m\u001b[0;34m'Cricket'\u001b[0m\u001b[0;34m,\u001b[0m \u001b[0;34m'Tennis'\u001b[0m\u001b[0;34m,\u001b[0m \u001b[0;34m'Baseball'\u001b[0m\u001b[0;34m]\u001b[0m\u001b[0;34m)\u001b[0m\u001b[0;34m\u001b[0m\u001b[0m\n\u001b[0;32m----> 2\u001b[0;31m \u001b[0msports_fset\u001b[0m\u001b[0;34m.\u001b[0m\u001b[0madd\u001b[0m\u001b[0;34m(\u001b[0m\u001b[0;34m\"Hockey\"\u001b[0m\u001b[0;34m)\u001b[0m\u001b[0;34m\u001b[0m\u001b[0m\n\u001b[0m\u001b[1;32m      3\u001b[0m \u001b[0;34m\u001b[0m\u001b[0m\n\u001b[1;32m      4\u001b[0m \u001b[0msports_fset\u001b[0m\u001b[0;34m\u001b[0m\u001b[0m\n",
      "\u001b[0;31mAttributeError\u001b[0m: 'frozenset' object has no attribute 'add'"
     ]
    }
   ],
   "source": [
    "sports_fset = frozenset(['Cricket', 'Tennis', 'Baseball'])\n",
    "sports_fset.add(\"Hockey\")\n",
    "\n",
    "sports_fset"
   ]
  },
  {
   "cell_type": "markdown",
   "metadata": {},
   "source": [
    "### Tuples\n",
    "\n",
    "1. Tuples are immutable.\n",
    "2. A tuple is a sequence of values much like a list. \n",
    "3. The values stored in a tuple can be any type, and they are indexed by integers. \n",
    "4. The important difference is that tuples are immutable. \n",
    "5. Tuples are also comparable and hashable so we can sort lists of them and use tuples as key values in Python dictionaries."
   ]
  },
  {
   "cell_type": "code",
   "execution_count": 189,
   "metadata": {
    "collapsed": false
   },
   "outputs": [
    {
     "name": "stdout",
     "output_type": "stream",
     "text": [
      "<type 'tuple'>\n"
     ]
    }
   ],
   "source": [
    "sports_tuple = 'Cricket', 'Tennis', 'Baseball'\n",
    "\n",
    "print type(sports_tuple)"
   ]
  },
  {
   "cell_type": "code",
   "execution_count": 190,
   "metadata": {
    "collapsed": false
   },
   "outputs": [
    {
     "name": "stdout",
     "output_type": "stream",
     "text": [
      "<type 'tuple'>\n"
     ]
    }
   ],
   "source": [
    "sports_tuple = ('Cricket', 'Tennis', 'Baseball')\n",
    "\n",
    "print type(sports_tuple)"
   ]
  },
  {
   "cell_type": "code",
   "execution_count": 197,
   "metadata": {
    "collapsed": false
   },
   "outputs": [
    {
     "name": "stdout",
     "output_type": "stream",
     "text": [
      "Cricket\n",
      "('Cricket', 'Tennis')\n"
     ]
    }
   ],
   "source": [
    "# get value from tuple\n",
    "\n",
    "print sports_tuple[0]\n",
    "print sports_tuple[0:2]"
   ]
  },
  {
   "cell_type": "code",
   "execution_count": 199,
   "metadata": {
    "collapsed": false
   },
   "outputs": [
    {
     "name": "stdout",
     "output_type": "stream",
     "text": [
      "['science!', 'learn', 'want', 'data', 'to', 'I']\n"
     ]
    }
   ],
   "source": [
    "# Example from python.org\n",
    "\n",
    "txt = 'I want to learn data science!'\n",
    "words = txt.split()\n",
    "t = list()\n",
    "for word in words:\n",
    "    t.append((len(word), word))\n",
    "\n",
    "t.sort(reverse=True)\n",
    "\n",
    "res = list()\n",
    "for length, word in t:\n",
    "    res.append(word)\n",
    "\n",
    "print res"
   ]
  },
  {
   "cell_type": "markdown",
   "metadata": {},
   "source": [
    "## Operators"
   ]
  },
  {
   "cell_type": "markdown",
   "metadata": {},
   "source": [
    "### Arthmetic "
   ]
  },
  {
   "cell_type": "code",
   "execution_count": 205,
   "metadata": {
    "collapsed": false
   },
   "outputs": [
    {
     "data": {
      "text/plain": [
       "(11, 8, 20, 100, 5, 0)"
      ]
     },
     "execution_count": 205,
     "metadata": {},
     "output_type": "execute_result"
    }
   ],
   "source": [
    "# Basic math operators\n",
    "\n",
    "a = 10\n",
    "a+1, a-2, a*2, a**2, a/2, a%2"
   ]
  },
  {
   "cell_type": "markdown",
   "metadata": {},
   "source": [
    "### Logical"
   ]
  },
  {
   "cell_type": "code",
   "execution_count": 234,
   "metadata": {
    "collapsed": false
   },
   "outputs": [
    {
     "name": "stdout",
     "output_type": "stream",
     "text": [
      "True\n",
      "True\n",
      "False\n",
      "False\n"
     ]
    }
   ],
   "source": [
    "a = True\n",
    "b = True \n",
    "\n",
    "print a and b\n",
    "print a or b\n",
    "print not a\n",
    "print not b"
   ]
  },
  {
   "cell_type": "markdown",
   "metadata": {},
   "source": [
    "### Comparisons"
   ]
  },
  {
   "cell_type": "code",
   "execution_count": null,
   "metadata": {
    "collapsed": true
   },
   "outputs": [],
   "source": [
    "a > b , a < b, a >= b , a <= b, a==b, a != b"
   ]
  },
  {
   "cell_type": "markdown",
   "metadata": {},
   "source": [
    "## String Manipulations"
   ]
  },
  {
   "cell_type": "code",
   "execution_count": 229,
   "metadata": {
    "collapsed": false
   },
   "outputs": [
    {
     "name": "stdout",
     "output_type": "stream",
     "text": [
      "4\n",
      "at\n",
      "data science\n",
      "Today is data session Day 1\n",
      "today is data session day 1\n",
      "TODAY IS DATA SESSION DAY 1\n"
     ]
    }
   ],
   "source": [
    "# Basic String Manipulations\n",
    "\n",
    "my_string='data'\n",
    "\n",
    "# get length\n",
    "\n",
    "print len(my_string)\n",
    "\n",
    "# get substring\n",
    "print my_string[1:3]\n",
    "\n",
    "# concatenate\n",
    "print my_string + ' science' \n",
    "\n",
    "# concatenate\n",
    "new_my_string= 'Today is '+my_string+' session Day '  + str(1)\n",
    "\n",
    "print new_my_string\n",
    "\n",
    "# to lower case\n",
    "print new_my_string.lower()\n",
    "\n",
    "# to upper case\n",
    "print new_my_string.upper()\n"
   ]
  },
  {
   "cell_type": "code",
   "execution_count": 350,
   "metadata": {
    "collapsed": false
   },
   "outputs": [
    {
     "name": "stdout",
     "output_type": "stream",
     "text": [
      "['split', 'the', 'sentence', 'into']\n",
      "split the sentence into\n"
     ]
    }
   ],
   "source": [
    "# split the sentence into words & frame the sentence back from words\n",
    "new_my_string='split,the,sentence,into'\n",
    "\n",
    "words= new_my_string.split(',') \n",
    "\n",
    "print words\n",
    "\n",
    "# join the words back\n",
    "sentence = ' '.join(words) \n",
    "\n",
    "print sentence"
   ]
  },
  {
   "cell_type": "markdown",
   "metadata": {},
   "source": [
    "## Control Flow"
   ]
  },
  {
   "cell_type": "markdown",
   "metadata": {},
   "source": [
    "#### If-Else"
   ]
  },
  {
   "cell_type": "code",
   "execution_count": 242,
   "metadata": {
    "collapsed": false
   },
   "outputs": [
    {
     "name": "stdout",
     "output_type": "stream",
     "text": [
      "A+\n",
      "B+\n",
      "C\n",
      "D\n"
     ]
    }
   ],
   "source": [
    "# If-Else\n",
    "\n",
    "def print_grade(score):\n",
    "    '''print grades for the given score\n",
    "    @param score: number\n",
    "    \n",
    "    '''\n",
    "    if score >= 90:\n",
    "        if score == 100:\n",
    "            print 'A+'\n",
    "        else:\n",
    "            print 'A'\n",
    "    elif score < 90 and score >= 80:\n",
    "        print 'B+'\n",
    "    elif score < 80 and score >= 75:\n",
    "        print 'B'\n",
    "    elif score < 75 and score >= 60:\n",
    "        print 'C'\n",
    "    else:\n",
    "        print 'D'\n",
    "\n",
    "        \n",
    "print_grade(100)\n",
    "print_grade(87)\n",
    "print_grade(70)\n",
    "print_grade(49)"
   ]
  },
  {
   "cell_type": "markdown",
   "metadata": {},
   "source": [
    "### Loops \n",
    "\n",
    "\n",
    "#### For Loop"
   ]
  },
  {
   "cell_type": "code",
   "execution_count": 248,
   "metadata": {
    "collapsed": false
   },
   "outputs": [
    {
     "name": "stdout",
     "output_type": "stream",
     "text": [
      "['Cricket', 'Tennis', 'Badminton', 'Baseball', 'Chess', 'Tennis']\n",
      "Cricket\n",
      "Tennis\n",
      "Badminton\n",
      "Baseball\n",
      "Chess\n",
      "Tennis\n"
     ]
    }
   ],
   "source": [
    "# String array\n",
    "print sports\n",
    "\n",
    "\n",
    "for sport in sports:\n",
    "    print sport"
   ]
  },
  {
   "cell_type": "code",
   "execution_count": 250,
   "metadata": {
    "collapsed": false
   },
   "outputs": [
    {
     "name": "stdout",
     "output_type": "stream",
     "text": [
      "0\n",
      "1\n",
      "2\n",
      "3\n",
      "4\n"
     ]
    }
   ],
   "source": [
    "# numbers array\n",
    "for i in range(0,5):\n",
    "    print i"
   ]
  },
  {
   "cell_type": "code",
   "execution_count": 251,
   "metadata": {
    "collapsed": false
   },
   "outputs": [
    {
     "name": "stdout",
     "output_type": "stream",
     "text": [
      "2\n",
      "3\n",
      "4\n",
      "5\n",
      "6\n"
     ]
    }
   ],
   "source": [
    "# manipulate array\n",
    "for i in range(0,5):\n",
    "    print i+2"
   ]
  },
  {
   "cell_type": "code",
   "execution_count": 268,
   "metadata": {
    "collapsed": false
   },
   "outputs": [
    {
     "name": "stdout",
     "output_type": "stream",
     "text": [
      "India, ['Cricket', 'Hockey', 'TT']\n",
      "USA, Chess\n",
      "Spain, Football\n"
     ]
    }
   ],
   "source": [
    "# dictonaries\n",
    "\n",
    "for key, value in sports_dict.items():\n",
    "    print '%s, %s' % (key, value)"
   ]
  },
  {
   "cell_type": "markdown",
   "metadata": {},
   "source": [
    "#### While Loop"
   ]
  },
  {
   "cell_type": "code",
   "execution_count": 272,
   "metadata": {
    "collapsed": false
   },
   "outputs": [
    {
     "name": "stdout",
     "output_type": "stream",
     "text": [
      "5\n",
      "10\n",
      "15\n",
      "20\n"
     ]
    }
   ],
   "source": [
    "num = 0\n",
    "while num < 20:\n",
    "    num += 5\n",
    "    print num"
   ]
  },
  {
   "cell_type": "markdown",
   "metadata": {},
   "source": [
    "#### List Comprehensions"
   ]
  },
  {
   "cell_type": "code",
   "execution_count": 276,
   "metadata": {
    "collapsed": false
   },
   "outputs": [
    {
     "name": "stdout",
     "output_type": "stream",
     "text": [
      "['My Cricket', 'My Tennis', 'My Badminton', 'My Baseball', 'My Chess', 'My Tennis']\n"
     ]
    }
   ],
   "source": [
    "my_sports = ['My ' + sport for sport in sports]\n",
    "\n",
    "print my_sports"
   ]
  },
  {
   "cell_type": "code",
   "execution_count": 277,
   "metadata": {
    "collapsed": false
   },
   "outputs": [
    {
     "name": "stdout",
     "output_type": "stream",
     "text": [
      "My Cricket\n",
      "My Tennis\n",
      "My Badminton\n",
      "My Baseball\n",
      "My Chess\n",
      "My Tennis\n"
     ]
    }
   ],
   "source": [
    "## Equivalent To\n",
    "\n",
    "for sport in sports:\n",
    "    print 'My ' + sport"
   ]
  },
  {
   "cell_type": "code",
   "execution_count": 304,
   "metadata": {
    "collapsed": false
   },
   "outputs": [
    {
     "name": "stdout",
     "output_type": "stream",
     "text": [
      "yay!!\n"
     ]
    }
   ],
   "source": [
    "if 'Chess' in sports:\n",
    "    print 'yay!!'\n",
    "    \n",
    "if 'TT' in sports:\n",
    "    print 'yay!!'"
   ]
  },
  {
   "cell_type": "code",
   "execution_count": 308,
   "metadata": {
    "collapsed": false
   },
   "outputs": [
    {
     "name": "stdout",
     "output_type": "stream",
     "text": [
      "['Badminton', 'Baseball', 'Chess', 'Cricket', 'Tennis', 'Tennis']\n",
      "['Tennis', 'Tennis', 'Cricket', 'Chess', 'Baseball', 'Badminton']\n"
     ]
    }
   ],
   "source": [
    "# print sorted list asc\n",
    "print sorted(sports)\n",
    "\n",
    "# print sorted list desc\n",
    "print sorted(sports, reverse=True)"
   ]
  },
  {
   "cell_type": "markdown",
   "metadata": {},
   "source": [
    "## Functions"
   ]
  },
  {
   "cell_type": "code",
   "execution_count": 354,
   "metadata": {
    "collapsed": true
   },
   "outputs": [],
   "source": [
    "# Define function\n",
    "def my_function():\n",
    "    #print hello function\n",
    "    print 'Hello Class!'"
   ]
  },
  {
   "cell_type": "code",
   "execution_count": 355,
   "metadata": {
    "collapsed": false
   },
   "outputs": [
    {
     "name": "stdout",
     "output_type": "stream",
     "text": [
      "Hello Class!\n"
     ]
    }
   ],
   "source": [
    "# print hello function\n",
    "print 'Hello Class!'"
   ]
  },
  {
   "cell_type": "code",
   "execution_count": 351,
   "metadata": {
    "collapsed": false
   },
   "outputs": [
    {
     "name": "stdout",
     "output_type": "stream",
     "text": [
      "Hello Class!\n"
     ]
    }
   ],
   "source": [
    "# Call function\n",
    "my_function()"
   ]
  },
  {
   "cell_type": "code",
   "execution_count": 286,
   "metadata": {
    "collapsed": false
   },
   "outputs": [
    {
     "name": "stdout",
     "output_type": "stream",
     "text": [
      "3\n",
      "Data Science\n",
      "1 Science\n"
     ]
    }
   ],
   "source": [
    "# Positional\n",
    "\n",
    "\n",
    "def add(a,b):\n",
    "    return a+b\n",
    "\n",
    "print add(1,2)\n",
    "print add('Data', ' Science')\n",
    "print add(str(1), ' Science')"
   ]
  },
  {
   "cell_type": "code",
   "execution_count": 297,
   "metadata": {
    "collapsed": false
   },
   "outputs": [
    {
     "name": "stdout",
     "output_type": "stream",
     "text": [
      "args hello\n",
      "myarg2 data\n",
      "myarg3 2\n"
     ]
    }
   ],
   "source": [
    "# Arbitrary Arguments\n",
    "\n",
    "def my_aa_function(*args,**kwargs):\n",
    "    for arg in args:\n",
    "        print arg\n",
    "        \n",
    "    for key, val in kwargs.items():\n",
    "        print '%s %s' % (key, val)\n",
    "    \n",
    "\n",
    "my_aa_function(args='hello',  myarg2=\"data\", myarg3='2') "
   ]
  },
  {
   "cell_type": "code",
   "execution_count": 301,
   "metadata": {
    "collapsed": false
   },
   "outputs": [
    {
     "name": "stdout",
     "output_type": "stream",
     "text": [
      "True\n",
      "False\n"
     ]
    }
   ],
   "source": [
    "# Linear Search \n",
    "\n",
    "def my_linear_search(mylist,n):\n",
    "    found=False\n",
    "    for item in mylist:\n",
    "        if item == n:\n",
    "            found=True\n",
    "            break\n",
    "        else:\n",
    "            found=False\n",
    "    return found   \n",
    "\n",
    "\n",
    "print my_linear_search([1,4,5,6,2,5,9],2)\n",
    "print my_linear_search([1,4,5,6,2,5,9],30)"
   ]
  },
  {
   "cell_type": "markdown",
   "metadata": {},
   "source": [
    "## Error Handling & Exceptions"
   ]
  },
  {
   "cell_type": "code",
   "execution_count": 319,
   "metadata": {
    "collapsed": false
   },
   "outputs": [
    {
     "name": "stdout",
     "output_type": "stream",
     "text": [
      "integer division or modulo by zero\n"
     ]
    }
   ],
   "source": [
    "## Divide by zero\n",
    "\n",
    "try:\n",
    "    a=10\n",
    "    a/0\n",
    "except ZeroDivisionError, e:\n",
    "    print e"
   ]
  },
  {
   "cell_type": "markdown",
   "metadata": {},
   "source": [
    "## File Operations\n",
    "\n"
   ]
  },
  {
   "cell_type": "code",
   "execution_count": 320,
   "metadata": {
    "collapsed": false
   },
   "outputs": [
    {
     "name": "stdout",
     "output_type": "stream",
     "text": [
      "\"\",\"OBJECTID\",\"FOD_ID\",\"FPA_ID\",\"SOURCE_SYSTEM_TYPE\",\"SOURCE_SYSTEM\",\"NWCG_REPORTING_AGENCY\",\"NWCG_REPORTING_UNIT_ID\",\"NWCG_REPORTING_UNIT_NAME\",\"SOURCE_REPORTING_UNIT\",\"SOURCE_REPORTING_UNIT_NAME\",\"LOCAL_FIRE_REPORT_ID\",\"LOCAL_INCIDENT_ID\",\"FIRE_CODE\",\"FIRE_NAME\",\"ICS_209_INCIDENT_NUMBER\",\"ICS_209_NAME\",\"MTBS_ID\",\"MTBS_FIRE_NAME\",\"COMPLEX_NAME\",\"FIRE_YEAR\",\"DISCOVERY_DATE\",\"DISCOVERY_DOY\",\"DISCOVERY_TIME\",\"STAT_CAUSE_CODE\",\"STAT_CAUSE_DESCR\",\"CONT_DATE\",\"CONT_DOY\",\"CONT_TIME\",\"FIRE_SIZE\",\"FIRE_SIZE_CLASS\",\"LATITUDE\",\"LONGITUDE\",\"OWNER_CODE\",\"OWNER_DESCR\",\"STATE\",\"COUNTY\",\"FIPS_CODE\",\"FIPS_NAME\",\"Shape\"\n",
      "\"1\",1,1,\"FS-1418826\",\"FED\",\"FS-FIRESTAT\",\"FS\",\"USCAPNF\",\"Plumas National Forest\",\"0511\",\"Plumas National Forest\",\"1\",\"PNF-47\",\"BJ8K\",\"FOUNTAIN\",NA,NA,NA,NA,NA,2005,2453403.5,33,\"1300\",9,\"Miscellaneous\",2453403.5,33,\"1730\",0.1,\"A\",40.03694444,-121.00583333,5,\"USFS\",\"CA\",\"63\",\"063\",\"Plumas\",\n"
     ]
    }
   ],
   "source": [
    "file = open(\"fires.csv\", \"r\") \n",
    "print file.read() "
   ]
  },
  {
   "cell_type": "code",
   "execution_count": 321,
   "metadata": {
    "collapsed": true
   },
   "outputs": [],
   "source": [
    "file = open(\"testfile.txt\",\"w\") \n",
    " \n",
    "file.write(\"Hello World!\") \n",
    " \n",
    "file.close() "
   ]
  },
  {
   "cell_type": "code",
   "execution_count": 322,
   "metadata": {
    "collapsed": false
   },
   "outputs": [
    {
     "name": "stdout",
     "output_type": "stream",
     "text": [
      "Hello World!\n"
     ]
    }
   ],
   "source": [
    "file = open(\"testfile.txt\", \"r\") \n",
    "print file.read() "
   ]
  },
  {
   "cell_type": "markdown",
   "metadata": {},
   "source": [
    "# References:\n",
    "\n",
    "    https://docs.python.org/\n",
    "    http://anh.cs.luc.edu/python/hands-on/3.1/Hands-onPythonTutorial.pdf"
   ]
  },
  {
   "cell_type": "code",
   "execution_count": null,
   "metadata": {
    "collapsed": true
   },
   "outputs": [],
   "source": []
  }
 ],
 "metadata": {
  "kernelspec": {
   "display_name": "Python 2",
   "language": "python",
   "name": "python2"
  },
  "language_info": {
   "codemirror_mode": {
    "name": "ipython",
    "version": 2
   },
   "file_extension": ".py",
   "mimetype": "text/x-python",
   "name": "python",
   "nbconvert_exporter": "python",
   "pygments_lexer": "ipython2",
   "version": "2.7.12"
  }
 },
 "nbformat": 4,
 "nbformat_minor": 0
}
