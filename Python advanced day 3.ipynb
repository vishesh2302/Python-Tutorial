{
 "cells": [
  {
   "cell_type": "markdown",
   "metadata": {},
   "source": [
    "# Intro to Data Science Bootcamp: Day 3: Python Advance"
   ]
  },
  {
   "cell_type": "code",
   "execution_count": 1,
   "metadata": {
    "collapsed": false
   },
   "outputs": [
    {
     "name": "stdout",
     "output_type": "stream",
     "text": [
      "Dated :2017-11-02\n"
     ]
    }
   ],
   "source": [
    "from datetime import date\n",
    "print 'Dated :' + str(date.today())"
   ]
  },
  {
   "cell_type": "markdown",
   "metadata": {},
   "source": [
    "# Topics"
   ]
  },
  {
   "cell_type": "markdown",
   "metadata": {},
   "source": [
    "#### 1.  Arbitrary Arguments \n",
    "#### 2.  Enumerations, Iterations & Zip\n",
    "#### 3.  Regex - Match, Search, Groups, Match vs Search\n",
    "#### 4.  Read Json file\n",
    "#### 5.  Python class & object\n",
    "#### 6.  Random Numbers"
   ]
  },
  {
   "cell_type": "markdown",
   "metadata": {},
   "source": [
    "###  Arbitrary Arguments\n",
    "\n",
    "In order to use variable length argument lists. *args is used to pass a non-keyworded, variable-length argument list ***kwargs is used to pass a keyworded, variable-length argument list. "
   ]
  },
  {
   "cell_type": "code",
   "execution_count": 2,
   "metadata": {
    "collapsed": false
   },
   "outputs": [
    {
     "name": "stdout",
     "output_type": "stream",
     "text": [
      "hello_karg1 hello\n",
      "args ['hello', 'hello1']\n",
      "karg3 {'name': 'def'}\n",
      "world_karg2 world!\n"
     ]
    }
   ],
   "source": [
    "# Arbitrary Arguments\n",
    "my_dict={\"name\":\"abc\", \"name\":\"def\"}\n",
    "\n",
    "def my_aa_function(*args,**kwargs):\n",
    "    for arg in args:\n",
    "        print arg\n",
    "        \n",
    "    for key, val in kwargs.items():\n",
    "        print '%s %s' % (key, val)\n",
    "    \n",
    "\n",
    "my_aa_function(args=['hello','hello1'],  hello_karg1=\"hello\", world_karg2='world!', karg3=my_dict) "
   ]
  },
  {
   "cell_type": "markdown",
   "metadata": {},
   "source": [
    "###  Enumerations, Iterations & Zip"
   ]
  },
  {
   "cell_type": "markdown",
   "metadata": {
    "collapsed": true
   },
   "source": [
    "#### Enumerations & Iterations\n",
    "\n",
    "enumerate() function adds an index to an iterable\n",
    "\n",
    "So for each element in cursor, a tuple is produced with (counter, element); the for loop binds that to row_number and row, respectively.\n",
    "\n"
   ]
  },
  {
   "cell_type": "code",
   "execution_count": 27,
   "metadata": {
    "collapsed": true
   },
   "outputs": [],
   "source": [
    "my_sports = ['Tennis', 'Cricket', 'Chess', 'Baseball', 'Badminton']\n"
   ]
  },
  {
   "cell_type": "code",
   "execution_count": 28,
   "metadata": {
    "collapsed": false
   },
   "outputs": [
    {
     "name": "stdout",
     "output_type": "stream",
     "text": [
      "Tennis\n",
      "Cricket\n",
      "Chess\n",
      "Baseball\n",
      "Badminton\n"
     ]
    }
   ],
   "source": [
    "for sport in my_sports:\n",
    "    print sport"
   ]
  },
  {
   "cell_type": "code",
   "execution_count": 29,
   "metadata": {
    "collapsed": false
   },
   "outputs": [
    {
     "name": "stdout",
     "output_type": "stream",
     "text": [
      "(0, 'Tennis')\n",
      "(1, 'Cricket')\n",
      "(2, 'Chess')\n",
      "(3, 'Baseball')\n",
      "(4, 'Badminton')\n"
     ]
    }
   ],
   "source": [
    "for sport in enumerate(my_sports):\n",
    "    print sport"
   ]
  },
  {
   "cell_type": "code",
   "execution_count": 56,
   "metadata": {
    "collapsed": false
   },
   "outputs": [
    {
     "name": "stdout",
     "output_type": "stream",
     "text": [
      "(0, 'Baseball') 0 Baseball\n",
      "(1, 'Badminton') 1 Badminton\n",
      "(2, 'Cricket') 2 Cricket\n",
      "(3, 'Tennis') 3 Tennis\n",
      "(4, 'Chess') 4 Chess\n"
     ]
    }
   ],
   "source": [
    "# For each item in the enumerated variable, data\n",
    "for sport in enumerate(my_sports):\n",
    "    # Print the whole enumerated element, index, value\n",
    "    print sport, sport[0], sport[1]"
   ]
  },
  {
   "cell_type": "markdown",
   "metadata": {
    "collapsed": true
   },
   "source": [
    "#### Zip"
   ]
  },
  {
   "cell_type": "code",
   "execution_count": 9,
   "metadata": {
    "collapsed": false
   },
   "outputs": [
    {
     "data": {
      "text/plain": [
       "[(1, 'a'), (2, 'b'), (3, 'c'), (4, 'd')]"
      ]
     },
     "execution_count": 9,
     "metadata": {},
     "output_type": "execute_result"
    }
   ],
   "source": [
    "# Lists with equal length\n",
    "list1=[1,2,3,4]\n",
    "list2=['a','b','c','d']\n",
    "\n",
    "zip(list1,list2)"
   ]
  },
  {
   "cell_type": "code",
   "execution_count": 10,
   "metadata": {
    "collapsed": false
   },
   "outputs": [
    {
     "name": "stdout",
     "output_type": "stream",
     "text": [
      "1 a\n",
      "2 b\n",
      "3 c\n",
      "4 d\n"
     ]
    }
   ],
   "source": [
    "for i, j in zip(list1,list2):\n",
    "    print i, j"
   ]
  },
  {
   "cell_type": "code",
   "execution_count": 13,
   "metadata": {
    "collapsed": false
   },
   "outputs": [
    {
     "data": {
      "text/plain": [
       "[(1, 'a'), (2, 'b'), (3, 'c'), (4, 'd')]"
      ]
     },
     "execution_count": 13,
     "metadata": {},
     "output_type": "execute_result"
    }
   ],
   "source": [
    "# Lists with different length\n",
    "\n",
    "list1=[1,2,3,4,5] # len=5\n",
    "list2=['a','b','c','d'] # = 4\n",
    "\n",
    "pairs=zip(list1,list2)\n",
    "pairs"
   ]
  },
  {
   "cell_type": "code",
   "execution_count": 12,
   "metadata": {
    "collapsed": false
   },
   "outputs": [
    {
     "name": "stdout",
     "output_type": "stream",
     "text": [
      "1 a\n",
      "2 b\n",
      "3 c\n",
      "4 d\n"
     ]
    }
   ],
   "source": [
    "for i, j in zip(list1,list2):\n",
    "    print i, j"
   ]
  },
  {
   "cell_type": "markdown",
   "metadata": {},
   "source": [
    "#### If the lists are of different lengths, zip stops as soon as the first list ends."
   ]
  },
  {
   "cell_type": "markdown",
   "metadata": {},
   "source": [
    "##### Unpacking or unzip the pairs"
   ]
  },
  {
   "cell_type": "code",
   "execution_count": 16,
   "metadata": {
    "collapsed": false
   },
   "outputs": [
    {
     "data": {
      "text/plain": [
       "((1, 2, 3, 4), ('a', 'b', 'c', 'd'))"
      ]
     },
     "execution_count": 16,
     "metadata": {},
     "output_type": "execute_result"
    }
   ],
   "source": [
    "# * does the argument unpacking\n",
    "\n",
    "nos, strings = zip(*pairs)\n",
    "\n",
    "nos, strings\n"
   ]
  },
  {
   "cell_type": "code",
   "execution_count": 17,
   "metadata": {
    "collapsed": true
   },
   "outputs": [],
   "source": [
    "# It can be used for argument unpacking with any function\n",
    "\n",
    "def add(a,b):\n",
    "    return a+b"
   ]
  },
  {
   "cell_type": "code",
   "execution_count": 107,
   "metadata": {
    "collapsed": false
   },
   "outputs": [
    {
     "name": "stdout",
     "output_type": "stream",
     "text": [
      "7\n",
      "3\n"
     ]
    },
    {
     "ename": "TypeError",
     "evalue": "add() takes exactly 2 arguments (1 given)",
     "output_type": "error",
     "traceback": [
      "\u001b[0;31m---------------------------------------------------------------------------\u001b[0m",
      "\u001b[0;31mTypeError\u001b[0m                                 Traceback (most recent call last)",
      "\u001b[0;32m<ipython-input-107-a4a849d9e2c4>\u001b[0m in \u001b[0;36m<module>\u001b[0;34m()\u001b[0m\n\u001b[1;32m      1\u001b[0m \u001b[0;32mprint\u001b[0m \u001b[0madd\u001b[0m\u001b[0;34m(\u001b[0m\u001b[0;36m2\u001b[0m\u001b[0;34m,\u001b[0m\u001b[0;36m5\u001b[0m\u001b[0;34m)\u001b[0m\u001b[0;34m\u001b[0m\u001b[0m\n\u001b[1;32m      2\u001b[0m \u001b[0;32mprint\u001b[0m \u001b[0madd\u001b[0m\u001b[0;34m(\u001b[0m\u001b[0;34m*\u001b[0m\u001b[0;34m[\u001b[0m\u001b[0;36m1\u001b[0m\u001b[0;34m,\u001b[0m\u001b[0;36m2\u001b[0m\u001b[0;34m]\u001b[0m\u001b[0;34m)\u001b[0m\u001b[0;34m\u001b[0m\u001b[0m\n\u001b[0;32m----> 3\u001b[0;31m \u001b[0;32mprint\u001b[0m \u001b[0madd\u001b[0m\u001b[0;34m(\u001b[0m\u001b[0;34m[\u001b[0m\u001b[0;36m2\u001b[0m\u001b[0;34m,\u001b[0m\u001b[0;36m5\u001b[0m\u001b[0;34m]\u001b[0m\u001b[0;34m)\u001b[0m \u001b[0;31m## Type error\u001b[0m\u001b[0;34m\u001b[0m\u001b[0m\n\u001b[0m",
      "\u001b[0;31mTypeError\u001b[0m: add() takes exactly 2 arguments (1 given)"
     ]
    }
   ],
   "source": [
    "print add(2,5)\n",
    "print add(*[1,2])\n",
    "print add([2,5]) ## Type error"
   ]
  },
  {
   "cell_type": "markdown",
   "metadata": {},
   "source": [
    "### Regex - Match, Search, Groups, Match vs Search¶\n",
    "\n",
    "Regex commonly known as regular expression is a sequence of chars providing a way to search text. Finding and extracting patterns from the text. Regexes are used everywhere."
   ]
  },
  {
   "cell_type": "markdown",
   "metadata": {},
   "source": [
    "##### import"
   ]
  },
  {
   "cell_type": "code",
   "execution_count": 110,
   "metadata": {
    "collapsed": true
   },
   "outputs": [],
   "source": [
    "# library to do regex \n",
    "# raises the exception re.error \n",
    "# if an error occurs while compiling or using a regular expression.\n",
    "\n",
    "import re"
   ]
  },
  {
   "cell_type": "markdown",
   "metadata": {},
   "source": [
    "##### match, compile, search & groups"
   ]
  },
  {
   "cell_type": "code",
   "execution_count": null,
   "metadata": {
    "collapsed": true
   },
   "outputs": [],
   "source": [
    "# 568-559-8858 127.0.0.1 abc@gmail.com "
   ]
  },
  {
   "cell_type": "code",
   "execution_count": 113,
   "metadata": {
    "collapsed": true
   },
   "outputs": [],
   "source": [
    "data = 'There will be 12 sessions in data science program.'"
   ]
  },
  {
   "cell_type": "code",
   "execution_count": 114,
   "metadata": {
    "collapsed": false
   },
   "outputs": [
    {
     "name": "stdout",
     "output_type": "stream",
     "text": [
      "12\n"
     ]
    }
   ],
   "source": [
    "# Extract any digit from the sentence\n",
    "# [a-zA-Z0-9]\n",
    "# + , * , ?\n",
    "\n",
    "pattern = re.compile(r'([0-9]+)')\n",
    "matched = re.search(pattern, data)\n",
    "\n",
    "if matched:\n",
    "    print matched.group(0)\n",
    "    "
   ]
  },
  {
   "cell_type": "code",
   "execution_count": 54,
   "metadata": {
    "collapsed": false
   },
   "outputs": [
    {
     "name": "stdout",
     "output_type": "stream",
     "text": [
      "data\n"
     ]
    }
   ],
   "source": [
    "# Extract the word data from the sentence\n",
    "\n",
    "pattern = re.compile(r'(data)')\n",
    "matched = re.search(pattern, data)\n",
    "\n",
    "if matched:\n",
    "    print matched.group(0)\n"
   ]
  },
  {
   "cell_type": "code",
   "execution_count": 123,
   "metadata": {
    "collapsed": false
   },
   "outputs": [
    {
     "name": "stdout",
     "output_type": "stream",
     "text": [
      "There\n"
     ]
    }
   ],
   "source": [
    "# Regex for string pattern\n",
    "\n",
    "pattern = re.compile(r'(^[a-zA-Z]+)')\n",
    "matched = re.search(pattern, data)\n",
    "\n",
    "if matched:\n",
    "    print matched.group(0)"
   ]
  },
  {
   "cell_type": "code",
   "execution_count": 137,
   "metadata": {
    "collapsed": false
   },
   "outputs": [
    {
     "name": "stdout",
     "output_type": "stream",
     "text": [
      "abc23@gmail.com\n"
     ]
    }
   ],
   "source": [
    "# Regex for string pattern for emails\n",
    "\n",
    "email = 'abc23@gmail.com'\n",
    "\n",
    "pattern = re.compile(r'(^[a-zA-Z@0-9.]+)')\n",
    "matched = re.search(pattern, email)\n",
    "\n",
    "if matched:\n",
    "    print matched.group(0)"
   ]
  },
  {
   "cell_type": "code",
   "execution_count": 140,
   "metadata": {
    "collapsed": false
   },
   "outputs": [
    {
     "name": "stdout",
     "output_type": "stream",
     "text": [
      "abc23@gmail.com\n",
      "abc23\n",
      "gmail.com\n"
     ]
    }
   ],
   "source": [
    "# extract email, domain name\n",
    "\n",
    "email = 'abc23@gmail.com'\n",
    "\n",
    "pattern = re.compile(r'([a-zA-Z0-9]+)@([a-zA-Z.]+)')\n",
    "matched = re.search(pattern, email)\n",
    "\n",
    "if matched:\n",
    "    print matched.group(0)\n",
    "    print matched.group(1)\n",
    "    print matched.group(2)"
   ]
  },
  {
   "cell_type": "code",
   "execution_count": 136,
   "metadata": {
    "collapsed": false
   },
   "outputs": [
    {
     "name": "stdout",
     "output_type": "stream",
     "text": [
      "Not found\n",
      "Not found\n"
     ]
    }
   ],
   "source": [
    "# Regex for string pattern for emails, enforce @ symbol\n",
    "\n",
    "bad_email = 'abc23gmail.com'\n",
    "\n",
    "pattern = re.compile(r'([a-zA-Z0-9])+@([a-zA-Z.])+')\n",
    "matched = re.search(pattern, bad_email)\n",
    "\n",
    "if matched:\n",
    "    print matched.group(0)\n",
    "else:\n",
    "    print 'Not found'\n",
    "    \n",
    "# Regex for string pattern for emails, enforce @ symbol\n",
    "\n",
    "bad_email = '@gmail.com'\n",
    "\n",
    "pattern = re.compile(r'([a-zA-Z0-9])+@([a-zA-Z.])+')\n",
    "matched = re.search(pattern, bad_email)\n",
    "\n",
    "if matched:\n",
    "    print matched.group(0)\n",
    "else:\n",
    "    print 'Not found'"
   ]
  },
  {
   "cell_type": "code",
   "execution_count": 58,
   "metadata": {
    "collapsed": false
   },
   "outputs": [
    {
     "name": "stdout",
     "output_type": "stream",
     "text": [
      "Data\n"
     ]
    }
   ],
   "source": [
    "# Extract the word data or Data from the sentence\n",
    "data = 'There will be 6 sessions in Data science program.'\n",
    "pattern = re.compile(r'([d|D]ata)')\n",
    "matched = re.search(pattern, data)\n",
    "\n",
    "if matched:\n",
    "    print matched.group(0)\n"
   ]
  },
  {
   "cell_type": "code",
   "execution_count": 60,
   "metadata": {
    "collapsed": false
   },
   "outputs": [
    {
     "name": "stdout",
     "output_type": "stream",
     "text": [
      "Not Found\n"
     ]
    }
   ],
   "source": [
    "# Extract the word data or Data from the sentence \n",
    "# if it is in the start of the sentence\n",
    "# pattern = re.compile(r'^([d|D]ata)$')\n",
    "\n",
    "pattern = re.compile(r'^([d|D]ata)')\n",
    "\n",
    "matched = re.search(pattern, data)\n",
    "\n",
    "if matched:\n",
    "    print matched.group(0)\n",
    "else:\n",
    "    print 'Not Found'\n"
   ]
  },
  {
   "cell_type": "code",
   "execution_count": 75,
   "metadata": {
    "collapsed": false
   },
   "outputs": [
    {
     "name": "stdout",
     "output_type": "stream",
     "text": [
      "There will be 6 sessions in Data science \n",
      "6\n",
      "Data\n"
     ]
    }
   ],
   "source": [
    "# Extract the word data or Data from the sentence \n",
    "# along with the number\n",
    "\n",
    "pattern = re.compile(r'There .* ([0-9]+) .* ([d|D]ata) .* ')\n",
    "\n",
    "matched = re.search(pattern, data)\n",
    "\n",
    "if matched:\n",
    "    print matched.group(0)\n",
    "    print matched.group(1)\n",
    "    print matched.group(2)\n",
    "else:\n",
    "    print 'Not Found'\n"
   ]
  },
  {
   "cell_type": "code",
   "execution_count": 115,
   "metadata": {
    "collapsed": false
   },
   "outputs": [
    {
     "name": "stdout",
     "output_type": "stream",
     "text": [
      "Not Found\n"
     ]
    }
   ],
   "source": [
    "#Mode: re.I, Performs case-insensitive matching.\n",
    "\n",
    "# Extract the word data or Data from the sentence \n",
    "# along with the number\n",
    "data = 'There will be 6 sessions in \\'Data\\' science program.'\n",
    "\n",
    "pattern = re.compile(r'There .* ([0-9]+) .* (data) .* ',re.I)\n",
    "\n",
    "matched = re.search(pattern, data)\n",
    "\n",
    "if matched:\n",
    "    print matched.group(0)\n",
    "    print matched.group(1)\n",
    "    print matched.group(2)\n",
    "else:\n",
    "    print 'Not Found'\n"
   ]
  },
  {
   "cell_type": "code",
   "execution_count": 78,
   "metadata": {
    "collapsed": false
   },
   "outputs": [
    {
     "name": "stdout",
     "output_type": "stream",
     "text": [
      "There will be 6 sessions in data science \n",
      "6\n",
      "data\n"
     ]
    }
   ],
   "source": [
    "#Mode: re.I, Performs case-insensitive matching.\n",
    "#      re.M , matches ^ & $ as start and end of line\n",
    "\n",
    "# Extract the word data or Data from the sentence \n",
    "# along with the number\n",
    "data = 'There will be 6 sessions in da-ta science program.'\n",
    "\n",
    "# [a-zA-z0-9@.]\n",
    "pattern = re.compile(r'There .* ([0-9]+) .* (data) .* ',re.I)\n",
    "\n",
    "matched = re.search(pattern, data)\n",
    "\n",
    "if matched:\n",
    "    print matched.group(0)\n",
    "    print matched.group(1)\n",
    "    print matched.group(2)\n",
    "else:\n",
    "    print 'Not Found'\n"
   ]
  },
  {
   "cell_type": "markdown",
   "metadata": {},
   "source": [
    "#### Match Vs Search\n",
    "\n",
    " MATCH  -> checks for a match only at the beginning of the string.\n",
    " SEARCH -> checks for a match anywhere in the string \n",
    "\n"
   ]
  },
  {
   "cell_type": "code",
   "execution_count": 156,
   "metadata": {
    "collapsed": false
   },
   "outputs": [
    {
     "name": "stdout",
     "output_type": "stream",
     "text": [
      "Not found!\n",
      "data\n"
     ]
    }
   ],
   "source": [
    "data = \"There will be 6 sessions in data science program.\";\n",
    "\n",
    "# Match\n",
    "matched = re.match(r'data', data, re.M|re.I )\n",
    "\n",
    "if matched:\n",
    "    print matched.group()\n",
    "else:\n",
    "    print \"Not found!\"\n",
    "\n",
    "# Search     \n",
    "matched = re.search(r'data', data, re.M|re.I )\n",
    "\n",
    "if matched:\n",
    "    print matched.group()\n",
    "else:\n",
    "    print \"Not found!\"\n"
   ]
  },
  {
   "cell_type": "markdown",
   "metadata": {},
   "source": [
    "### to find all occurences of a pattern. Use re.findall\n",
    "\n",
    "#### this returns a list with occurrances"
   ]
  },
  {
   "cell_type": "code",
   "execution_count": 155,
   "metadata": {
    "collapsed": false
   },
   "outputs": [
    {
     "name": "stdout",
     "output_type": "stream",
     "text": [
      "Month: April\n",
      "Month: May\n",
      "Month: June\n"
     ]
    }
   ],
   "source": [
    "# To capture all months\n",
    "\n",
    "data = \"April 24, May 9, June 12\"\n",
    "\n",
    "pattern = re.compile(r'([a-zA-Z]+) [0-9]+',re.I)\n",
    "matches = re.findall(pattern, data )\n",
    "\n",
    "for match in matches:\n",
    "    print \"Month: %s\" % (match)\n"
   ]
  },
  {
   "cell_type": "code",
   "execution_count": 154,
   "metadata": {
    "collapsed": false,
    "scrolled": true
   },
   "outputs": [
    {
     "name": "stdout",
     "output_type": "stream",
     "text": [
      "data\n",
      "Data\n"
     ]
    }
   ],
   "source": [
    "# To extract both occurances of word data\n",
    "\n",
    "data = \"This is a data science program. Here you need to create your own Data.\"\n",
    "\n",
    "pattern = re.compile(r'(data)',re.I)\n",
    "matches = re.findall(pattern, data )\n",
    "\n",
    "# print all occurences\n",
    "for match in matches:\n",
    "    print \"%s\" % (match)\n"
   ]
  },
  {
   "cell_type": "code",
   "execution_count": 153,
   "metadata": {
    "collapsed": false
   },
   "outputs": [
    {
     "name": "stdout",
     "output_type": "stream",
     "text": [
      "12\n",
      "5\n",
      "3\n"
     ]
    }
   ],
   "source": [
    "# To extract all nos.\n",
    "\n",
    "data = \"This is no. 12. Get 5 here and add 3 to it.\"\n",
    "\n",
    "pattern = re.compile(r'([0-9]+)',re.I)\n",
    "matches = re.findall(pattern, data )\n",
    "\n",
    "# print all occurences\n",
    "for match in matches:\n",
    "    print \"%s\" % (match)\n"
   ]
  },
  {
   "cell_type": "markdown",
   "metadata": {},
   "source": [
    "#### Explore re.sub for find and replace use-cases"
   ]
  },
  {
   "cell_type": "markdown",
   "metadata": {},
   "source": [
    "Refer for more examples - https://docs.python.org/3/howto/regex.html"
   ]
  },
  {
   "cell_type": "markdown",
   "metadata": {},
   "source": [
    "### Read Json file"
   ]
  },
  {
   "cell_type": "code",
   "execution_count": null,
   "metadata": {
    "collapsed": true
   },
   "outputs": [],
   "source": []
  },
  {
   "cell_type": "code",
   "execution_count": null,
   "metadata": {
    "collapsed": true
   },
   "outputs": [],
   "source": []
  },
  {
   "cell_type": "code",
   "execution_count": 60,
   "metadata": {
    "collapsed": true
   },
   "outputs": [],
   "source": [
    "import json"
   ]
  },
  {
   "cell_type": "code",
   "execution_count": null,
   "metadata": {
    "collapsed": true
   },
   "outputs": [],
   "source": [
    "# {\n",
    "#     \"title\": \"Person\",\n",
    "#     \"type\": \"object\",\n",
    "#     \"properties\": {\n",
    "#         \"firstName\": {\n",
    "#             \"type\": \"string\"\n",
    "#         },\n",
    "#         \"lastName\": {\n",
    "#             \"type\": \"string\"\n",
    "#         },\n",
    "#         \"age\": {\n",
    "#             \"description\": \"Age in years\",\n",
    "#             \"type\": \"integer\",\n",
    "#             \"minimum\": 0\n",
    "#         }\n",
    "#     },\n",
    "#     \"required\": [\"firstName\", \"lastName\"]\n",
    "# }"
   ]
  },
  {
   "cell_type": "code",
   "execution_count": 79,
   "metadata": {
    "collapsed": false
   },
   "outputs": [
    {
     "name": "stdout",
     "output_type": "stream",
     "text": [
      "title is = Person\n",
      "type is = object\n",
      "required is = [u'firstName', u'lastName']\n",
      "firstName Object = {u'type': u'string'}\n",
      "firstName Object's type = string\n",
      "Age minimum requirement = 0\n"
     ]
    }
   ],
   "source": [
    "# Read a json file -> read as a dictionary\n",
    "\n",
    "try:\n",
    "    with open('sample-json.json') as json_data:\n",
    "        sample_json_data = json.load(json_data)\n",
    "        #print sample_json_data\n",
    "\n",
    "        print \"title is =\", sample_json_data['title']\n",
    "        print \"type is =\", sample_json_data['type']\n",
    "        print \"required is =\", sample_json_data['required']\n",
    "\n",
    "        print \"firstName Object =\", sample_json_data['properties']['firstName']\n",
    "        print \"firstName Object's type =\", sample_json_data['properties']['firstName']['type']\n",
    "\n",
    "        print \"Age minimum requirement =\", sample_json_data['properties']['age']['minimum']\n",
    "\n",
    "except Exception,e:\n",
    "    print e"
   ]
  },
  {
   "cell_type": "code",
   "execution_count": 80,
   "metadata": {
    "collapsed": false
   },
   "outputs": [
    {
     "name": "stdout",
     "output_type": "stream",
     "text": [
      "[Errno 2] No such file or directory: 'sample-json1.json'\n"
     ]
    }
   ],
   "source": [
    "# Read non-existing json\n",
    "\n",
    "try:\n",
    "    with open('sample-json1.json') as json_data:\n",
    "        sample_json_data = json.load(json_data)\n",
    "        #print sample_json_data\n",
    "\n",
    "        print \"title is =\", sample_json_data['title']\n",
    "        print \"type is =\", sample_json_data['type']\n",
    "        print \"required is =\", sample_json_data['required']\n",
    "\n",
    "        print \"firstName Object =\", sample_json_data['properties']['firstName']\n",
    "        print \"firstName Object's type =\", sample_json_data['properties']['firstName']['type']\n",
    "\n",
    "        print \"Age minimum requirement =\", sample_json_data['properties']['age']['minimum']\n",
    "\n",
    "except Exception,e:\n",
    "    print e"
   ]
  },
  {
   "cell_type": "code",
   "execution_count": 116,
   "metadata": {
    "collapsed": false
   },
   "outputs": [
    {
     "name": "stdout",
     "output_type": "stream",
     "text": [
      "title is = Person\n",
      "type is = object\n",
      "required is ="
     ]
    },
    {
     "ename": "KeyError",
     "evalue": "'required1'",
     "output_type": "error",
     "traceback": [
      "\u001b[0;31m---------------------------------------------------------------------------\u001b[0m",
      "\u001b[0;31mKeyError\u001b[0m                                  Traceback (most recent call last)",
      "\u001b[0;32m<ipython-input-116-a8809d9c90e8>\u001b[0m in \u001b[0;36m<module>\u001b[0;34m()\u001b[0m\n\u001b[1;32m      9\u001b[0m \u001b[0;34m\u001b[0m\u001b[0m\n\u001b[1;32m     10\u001b[0m     \u001b[0;31m## required1 does not exist\u001b[0m\u001b[0;34m\u001b[0m\u001b[0;34m\u001b[0m\u001b[0m\n\u001b[0;32m---> 11\u001b[0;31m     \u001b[0;32mprint\u001b[0m \u001b[0;34m\"required is =\"\u001b[0m\u001b[0;34m,\u001b[0m \u001b[0msample_json_data\u001b[0m\u001b[0;34m[\u001b[0m\u001b[0;34m'required1'\u001b[0m\u001b[0;34m]\u001b[0m\u001b[0;34m\u001b[0m\u001b[0m\n\u001b[0m\u001b[1;32m     12\u001b[0m \u001b[0;34m\u001b[0m\u001b[0m\n\u001b[1;32m     13\u001b[0m     \u001b[0;32mprint\u001b[0m \u001b[0;34m\"firstName Object =\"\u001b[0m\u001b[0;34m,\u001b[0m \u001b[0msample_json_data\u001b[0m\u001b[0;34m[\u001b[0m\u001b[0;34m'properties'\u001b[0m\u001b[0;34m]\u001b[0m\u001b[0;34m[\u001b[0m\u001b[0;34m'firstName'\u001b[0m\u001b[0;34m]\u001b[0m\u001b[0;34m\u001b[0m\u001b[0m\n",
      "\u001b[0;31mKeyError\u001b[0m: 'required1'"
     ]
    }
   ],
   "source": [
    "# get non-existing key\n",
    "\n",
    "with open('sample-json.json') as json_data:\n",
    "    sample_json_data = json.load(json_data)\n",
    "    #print sample_json_data\n",
    "\n",
    "    print \"title is =\", sample_json_data['title']\n",
    "    print \"type is =\", sample_json_data['type']\n",
    "            \n",
    "    ## required1 does not exist\n",
    "    print \"required is =\", sample_json_data['required1']\n",
    "\n",
    "    print \"firstName Object =\", sample_json_data['properties']['firstName']\n",
    "    ## key error\n",
    "    print \"firstName Object's type =\", sample_json_data['properties']['firstName']['type']\n",
    "\n",
    "    print \"Age minimum requirement =\", sample_json_data['properties']['age']['minimum']\n",
    "\n"
   ]
  },
  {
   "cell_type": "code",
   "execution_count": 122,
   "metadata": {
    "collapsed": false,
    "scrolled": true
   },
   "outputs": [
    {
     "name": "stdout",
     "output_type": "stream",
     "text": [
      "title is = Person\n",
      "type is = object\n",
      "required is = \n",
      "'required1'\n"
     ]
    }
   ],
   "source": [
    "# handle exception to get non-existing key\n",
    "\n",
    "try:\n",
    "    \n",
    "    with open('sample-json.json') as json_data:\n",
    "        sample_json_data = json.load(json_data)\n",
    "        #print sample_json_data\n",
    "\n",
    "        print \"title is =\", sample_json_data['title']\n",
    "        print \"type is =\", sample_json_data['type']\n",
    "\n",
    "        ## required1 does not exist\n",
    "        print \"required is =\", sample_json_data['required1']\n",
    "\n",
    "        print \"firstName Object =\", sample_json_data['properties']['firstName']\n",
    "        ## key error\n",
    "        print \"firstName Object's type =\", sample_json_data['properties']['firstName']['type']\n",
    "\n",
    "        print \"Age minimum requirement =\", sample_json_data['properties']['age']['minimum']\n",
    "\n",
    "except KeyError,e:\n",
    "    print \"\"\n",
    "    print e"
   ]
  },
  {
   "cell_type": "markdown",
   "metadata": {},
   "source": []
  },
  {
   "cell_type": "markdown",
   "metadata": {},
   "source": [
    "Try Simulating ValueError.\n",
    "    For more exceptions - https://docs.python.org/3/tutorial/errors.html"
   ]
  },
  {
   "cell_type": "markdown",
   "metadata": {},
   "source": [
    "#### Explore json.dumps"
   ]
  },
  {
   "cell_type": "markdown",
   "metadata": {},
   "source": [
    "### Access a database"
   ]
  },
  {
   "cell_type": "code",
   "execution_count": 8,
   "metadata": {
    "collapsed": false
   },
   "outputs": [],
   "source": [
    "#import MySQLdb"
   ]
  },
  {
   "cell_type": "code",
   "execution_count": 5,
   "metadata": {
    "collapsed": false
   },
   "outputs": [],
   "source": [
    "# import MySQLdb\n",
    "\n",
    "# # Open database connection\n",
    "# db = MySQLdb.connect(\"localhost\",\"testuser\",\"test123\",\"TESTDB\" )\n",
    "\n",
    "# # prepare a cursor object using cursor() method\n",
    "# cursor = db.cursor()\n",
    "\n",
    "# # execute SQL query using execute() method.\n",
    "# cursor.execute(\"SELECT VERSION()\")\n",
    "\n",
    "# # Fetch a single row using fetchone() method.\n",
    "# data = cursor.fetchone()\n",
    "# print \"Database version : %s \" % data\n",
    "\n",
    "# # disconnect from server\n",
    "# db.close()"
   ]
  },
  {
   "cell_type": "code",
   "execution_count": null,
   "metadata": {
    "collapsed": true
   },
   "outputs": [],
   "source": [
    "# import MySQLdb\n",
    "\n",
    "# # Open database connection\n",
    "# db = MySQLdb.connect(\"localhost\",\"testuser\",\"test123\",\"TESTDB\" )\n",
    "\n",
    "# # prepare a cursor object using cursor() method\n",
    "# cursor = db.cursor()\n",
    "\n",
    "# # Drop table if it already exist using execute() method.\n",
    "# cursor.execute(\"DROP TABLE IF EXISTS EMPLOYEE\")\n",
    "\n",
    "# # Create table as per requirement\n",
    "# sql = \"\"\"CREATE TABLE EMPLOYEE (\n",
    "#          FIRST_NAME  CHAR(20) NOT NULL,\n",
    "#          LAST_NAME  CHAR(20),\n",
    "#          AGE INT,  \n",
    "#          SEX CHAR(1),\n",
    "#          INCOME FLOAT )\"\"\"\n",
    "\n",
    "# cursor.execute(sql)\n",
    "\n",
    "# # disconnect from server\n",
    "# db.close()"
   ]
  },
  {
   "cell_type": "markdown",
   "metadata": {},
   "source": [
    "### Python - Object Oriented : Class & Object"
   ]
  },
  {
   "cell_type": "markdown",
   "metadata": {
    "collapsed": true
   },
   "source": [
    "Quick Revision: https://en.wikipedia.org/wiki/Object-oriented_programming\n",
    "    \n",
    "Object - State or behavior of a thing/person/animal etc. Real-world objects share two characteristics: They all have state and behavior. An object stores its state in fields (variables in some programming languages) and exposes its behavior through methods (functions in some programming languages). \n",
    "\n",
    "Class − A user-defined prototype for an object that defines a set of attributes that characterize any object of the class.  Consists of class variables and instance variables, methods"
   ]
  },
  {
   "cell_type": "code",
   "execution_count": 101,
   "metadata": {
    "collapsed": true
   },
   "outputs": [],
   "source": [
    "class Student:\n",
    "    'Common base class for all students'\n",
    "    studentCount = 0\n",
    "\n",
    "    def __init__(self, name, grade):\n",
    "        self.name = name\n",
    "        self.grade = grade\n",
    "        Student.studentCount += 1\n",
    "   \n",
    "    def displayCount(self):\n",
    "        print \"Total students %d\" % Student.studentCount\n",
    "\n",
    "    def displayStudent(self):\n",
    "        print \"Name : \", self.name,  \", Grade: \", self.grade\n"
   ]
  },
  {
   "cell_type": "code",
   "execution_count": 102,
   "metadata": {
    "collapsed": true
   },
   "outputs": [],
   "source": [
    "# This would create first object of Student class\n",
    "student1 = Student(\"Abc\", 10)\n",
    "student2 = Student(\"Def\", 12)\n",
    "student3 = Student(\"Xyz\", 9)"
   ]
  },
  {
   "cell_type": "code",
   "execution_count": 103,
   "metadata": {
    "collapsed": false
   },
   "outputs": [
    {
     "name": "stdout",
     "output_type": "stream",
     "text": [
      "Name :  Abc , Grade:  10\n",
      "Name :  Def , Grade:  12\n",
      "Total Students 3\n"
     ]
    }
   ],
   "source": [
    "#get some information from classes\n",
    "\n",
    "student1.displayStudent()\n",
    "student2.displayStudent()\n",
    "\n",
    "print \"Total Students %d\" %  Student.studentCount"
   ]
  },
  {
   "cell_type": "markdown",
   "metadata": {},
   "source": [
    "### Random Numbers\n",
    "\n",
    "In data science we will find that pretty frequently we need to generate the random numbers. "
   ]
  },
  {
   "cell_type": "code",
   "execution_count": 38,
   "metadata": {
    "collapsed": true
   },
   "outputs": [],
   "source": [
    "import random as rm"
   ]
  },
  {
   "cell_type": "code",
   "execution_count": 39,
   "metadata": {
    "collapsed": false
   },
   "outputs": [],
   "source": [
    "uniform_random_nos_5 = [rm.random() for _ in range(5)]"
   ]
  },
  {
   "cell_type": "code",
   "execution_count": 40,
   "metadata": {
    "collapsed": false
   },
   "outputs": [
    {
     "data": {
      "text/plain": [
       "[0.898673724075449,\n",
       " 0.39494728763511266,\n",
       " 0.5303471078055081,\n",
       " 0.8050549228464507,\n",
       " 0.6158552811251036]"
      ]
     },
     "execution_count": 40,
     "metadata": {},
     "output_type": "execute_result"
    }
   ],
   "source": [
    "uniform_random_nos_5 ## psuedorandom nos. uniformly between 0 and 1"
   ]
  },
  {
   "cell_type": "markdown",
   "metadata": {},
   "source": [
    "###### To generate reproducible random nos. Use Seed Function\n",
    "\n"
   ]
  },
  {
   "cell_type": "code",
   "execution_count": 42,
   "metadata": {
    "collapsed": false
   },
   "outputs": [
    {
     "name": "stdout",
     "output_type": "stream",
     "text": [
      "0.62290169489\n"
     ]
    }
   ],
   "source": [
    "rm.seed(5)\n",
    "print rm.random()"
   ]
  },
  {
   "cell_type": "code",
   "execution_count": 43,
   "metadata": {
    "collapsed": false
   },
   "outputs": [
    {
     "name": "stdout",
     "output_type": "stream",
     "text": [
      "0.62290169489\n"
     ]
    }
   ],
   "source": [
    "rm.seed(5)\n",
    "print rm.random()"
   ]
  },
  {
   "cell_type": "markdown",
   "metadata": {},
   "source": [
    "##### To generate reproducible random nos using range"
   ]
  },
  {
   "cell_type": "code",
   "execution_count": 44,
   "metadata": {
    "collapsed": false
   },
   "outputs": [
    {
     "data": {
      "text/plain": [
       "7"
      ]
     },
     "execution_count": 44,
     "metadata": {},
     "output_type": "execute_result"
    }
   ],
   "source": [
    "rm.randrange(10) # choose randomly from range [0,1,2,....,9]"
   ]
  },
  {
   "cell_type": "code",
   "execution_count": 45,
   "metadata": {
    "collapsed": false
   },
   "outputs": [
    {
     "data": {
      "text/plain": [
       "7"
      ]
     },
     "execution_count": 45,
     "metadata": {},
     "output_type": "execute_result"
    }
   ],
   "source": [
    "rm.randrange(4,9) # choose randomly from range 4 & 9"
   ]
  },
  {
   "cell_type": "markdown",
   "metadata": {},
   "source": [
    "##### To generate reproducible random choices"
   ]
  },
  {
   "cell_type": "code",
   "execution_count": 46,
   "metadata": {
    "collapsed": false
   },
   "outputs": [
    {
     "data": {
      "text/plain": [
       "[1, 8, 3, 5, 4, 2, 0, 7, 6, 9]"
      ]
     },
     "execution_count": 46,
     "metadata": {},
     "output_type": "execute_result"
    }
   ],
   "source": [
    "# Example 1\n",
    "\n",
    "one_to_ten = range(10)\n",
    "rm.shuffle(one_to_ten)\n",
    "one_to_ten"
   ]
  },
  {
   "cell_type": "code",
   "execution_count": 47,
   "metadata": {
    "collapsed": false
   },
   "outputs": [
    {
     "data": {
      "text/plain": [
       "['Baseball', 'Badminton', 'Cricket', 'Tennis', 'Chess']"
      ]
     },
     "execution_count": 47,
     "metadata": {},
     "output_type": "execute_result"
    }
   ],
   "source": [
    "# Example 2: string list\n",
    "\n",
    "rm.shuffle(my_sports)\n",
    "my_sports"
   ]
  },
  {
   "cell_type": "code",
   "execution_count": 48,
   "metadata": {
    "collapsed": false
   },
   "outputs": [
    {
     "data": {
      "text/plain": [
       "'Baseball'"
      ]
     },
     "execution_count": 48,
     "metadata": {},
     "output_type": "execute_result"
    }
   ],
   "source": [
    "rm.choice(my_sports)"
   ]
  },
  {
   "cell_type": "code",
   "execution_count": 49,
   "metadata": {
    "collapsed": false
   },
   "outputs": [
    {
     "data": {
      "text/plain": [
       "'Badminton'"
      ]
     },
     "execution_count": 49,
     "metadata": {},
     "output_type": "execute_result"
    }
   ],
   "source": [
    "rm.choice(my_sports)"
   ]
  },
  {
   "cell_type": "code",
   "execution_count": 104,
   "metadata": {
    "collapsed": false
   },
   "outputs": [
    {
     "data": {
      "text/plain": [
       "'Chess'"
      ]
     },
     "execution_count": 104,
     "metadata": {},
     "output_type": "execute_result"
    }
   ],
   "source": [
    "rm.choice(my_sports)"
   ]
  },
  {
   "cell_type": "markdown",
   "metadata": {},
   "source": [
    "##### To generate reproducible random choices with no duplicates"
   ]
  },
  {
   "cell_type": "code",
   "execution_count": 51,
   "metadata": {
    "collapsed": false
   },
   "outputs": [
    {
     "data": {
      "text/plain": [
       "[91, 76, 15, 79, 13]"
      ]
     },
     "execution_count": 51,
     "metadata": {},
     "output_type": "execute_result"
    }
   ],
   "source": [
    "lottery_numbers = range(100)\n",
    "\n",
    "winning_nos_no_duplicates = rm.sample(lottery_numbers,5)\n",
    "\n",
    "winning_nos_no_duplicates"
   ]
  },
  {
   "cell_type": "code",
   "execution_count": 52,
   "metadata": {
    "collapsed": false
   },
   "outputs": [
    {
     "data": {
      "text/plain": [
       "['Tennis', 'Baseball', 'Chess', 'Badminton']"
      ]
     },
     "execution_count": 52,
     "metadata": {},
     "output_type": "execute_result"
    }
   ],
   "source": [
    "random_sports = rm.sample(my_sports,4)\n",
    "\n",
    "random_sports"
   ]
  },
  {
   "cell_type": "markdown",
   "metadata": {},
   "source": [
    "##### To generate reproducible random choices with duplicates"
   ]
  },
  {
   "cell_type": "code",
   "execution_count": 53,
   "metadata": {
    "collapsed": false
   },
   "outputs": [
    {
     "data": {
      "text/plain": [
       "[2, 2, 9, 8, 2]"
      ]
     },
     "execution_count": 53,
     "metadata": {},
     "output_type": "execute_result"
    }
   ],
   "source": [
    "with_replacement = [rm.choice(range(10)) for _ in range(5)]\n",
    "\n",
    "with_replacement"
   ]
  },
  {
   "cell_type": "code",
   "execution_count": null,
   "metadata": {
    "collapsed": true
   },
   "outputs": [],
   "source": []
  }
 ],
 "metadata": {
  "kernelspec": {
   "display_name": "Python 2",
   "language": "python",
   "name": "python2"
  },
  "language_info": {
   "codemirror_mode": {
    "name": "ipython",
    "version": 2
   },
   "file_extension": ".py",
   "mimetype": "text/x-python",
   "name": "python",
   "nbconvert_exporter": "python",
   "pygments_lexer": "ipython2",
   "version": "2.7.12"
  }
 },
 "nbformat": 4,
 "nbformat_minor": 0
}
